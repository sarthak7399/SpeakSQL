{
 "cells": [
  {
   "cell_type": "code",
   "execution_count": null,
   "id": "95f46c96-79bc-4154-96bd-4d81c72c0eba",
   "metadata": {},
   "outputs": [],
   "source": [
    "%pip install -r requirements.txt"
   ]
  },
  {
   "cell_type": "code",
   "execution_count": null,
   "id": "f75d9fba-cfdb-4717-b1d2-959a24c640c2",
   "metadata": {},
   "outputs": [],
   "source": [
    "%pip install -U google-genai"
   ]
  },
  {
   "cell_type": "code",
   "execution_count": 33,
   "id": "64683556-a8f7-436b-bd34-eadba3e12921",
   "metadata": {},
   "outputs": [],
   "source": [
    "import os\n",
    "from dotenv import load_dotenv\n",
    "\n",
    "# Load environment variables from .env file\n",
    "load_dotenv()\n",
    "\n",
    "# Retrieve the API key\n",
    "GOOGLE_API_KEY = os.getenv(\"GOOGLE_API_KEY\")"
   ]
  },
  {
   "cell_type": "code",
   "execution_count": 34,
   "id": "6be15645-36f0-46e1-8d1e-6812fae57021",
   "metadata": {},
   "outputs": [],
   "source": [
    "import pprint\n",
    "from google import genai\n",
    "\n",
    "client = genai.Client( api_key = GOOGLE_API_KEY )"
   ]
  },
  {
   "cell_type": "code",
   "execution_count": 35,
   "id": "4202d963-3bad-4247-9cbc-0b57bed99ab4",
   "metadata": {},
   "outputs": [
    {
     "name": "stdout",
     "output_type": "stream",
     "text": [
      "AI learns from data to make predictions or decisions.\n",
      "\n"
     ]
    }
   ],
   "source": [
    "response = client.models.generate_content(\n",
    "    model=\"gemini-2.0-flash\",\n",
    "    contents=\"Explain how AI works in a few words\",\n",
    ")\n",
    "\n",
    "print(response.text)"
   ]
  },
  {
   "cell_type": "code",
   "execution_count": null,
   "id": "dd99a73f-c55a-4f57-ac26-20bb1d5700ee",
   "metadata": {},
   "outputs": [],
   "source": []
  }
 ],
 "metadata": {
  "kernelspec": {
   "display_name": "Python 3 (ipykernel)",
   "language": "python",
   "name": "python3"
  },
  "language_info": {
   "codemirror_mode": {
    "name": "ipython",
    "version": 3
   },
   "file_extension": ".py",
   "mimetype": "text/x-python",
   "name": "python",
   "nbconvert_exporter": "python",
   "pygments_lexer": "ipython3",
   "version": "3.12.3"
  }
 },
 "nbformat": 4,
 "nbformat_minor": 5
}
