{
 "cells": [
  {
   "cell_type": "code",
   "execution_count": null,
   "id": "95f46c96-79bc-4154-96bd-4d81c72c0eba",
   "metadata": {
    "scrolled": true
   },
   "outputs": [],
   "source": [
    "%pip install -r requirements.txt"
   ]
  },
  {
   "cell_type": "code",
   "execution_count": null,
   "id": "16c295e7-23f6-45eb-ac1a-3771295408c9",
   "metadata": {
    "scrolled": true
   },
   "outputs": [],
   "source": [
    "%pip install -U chromadb"
   ]
  },
  {
   "cell_type": "code",
   "execution_count": 14,
   "id": "64683556-a8f7-436b-bd34-eadba3e12921",
   "metadata": {},
   "outputs": [
    {
     "data": {
      "text/plain": [
       "True"
      ]
     },
     "execution_count": 14,
     "metadata": {},
     "output_type": "execute_result"
    }
   ],
   "source": [
    "# --- Load Environment Variables ---\n",
    "# Ensure your .env file exists in the same directory as this script\n",
    "\n",
    "import os\n",
    "from dotenv import load_dotenv\n",
    "import decimal # New import for Decimal type handling\n",
    "\n",
    "load_dotenv()"
   ]
  },
  {
   "cell_type": "code",
   "execution_count": 15,
   "id": "e1727d95-93cb-4674-9b63-995576729711",
   "metadata": {},
   "outputs": [],
   "source": [
    "GOOGLE_API_KEY = os.getenv('GOOGLE_API_KEY')\n",
    "db_user =  os.getenv(\"db_user\")\n",
    "db_password =  os.getenv(\"db_password\")\n",
    "db_host =  os.getenv(\"db_host\")\n",
    "db_port =  os.getenv(\"db_port\")\n",
    "db_name =  os.getenv(\"db_name\")"
   ]
  },
  {
   "cell_type": "code",
   "execution_count": 16,
   "id": "1d592197-7c9e-4597-bc8a-760a4c553a25",
   "metadata": {},
   "outputs": [],
   "source": [
    "import google.generativeai as genai\n",
    "\n",
    "# --- Configure Gemini API ---\n",
    "# This line configures the Gemini API with your API key.\n",
    "# It's crucial for authenticating your requests to Google's generative models.\n",
    "genai.configure(api_key=GOOGLE_API_KEY)"
   ]
  },
  {
   "cell_type": "code",
   "execution_count": 17,
   "id": "3eceb838-5c6b-4a4f-aac4-98f8166c9489",
   "metadata": {},
   "outputs": [
    {
     "name": "stdout",
     "output_type": "stream",
     "text": [
      "--- Connecting to MySQL Database and Fetching Schema ---\n",
      "Database Schema:\n",
      " \n",
      "CREATE TABLE discounts (\n",
      "\tdiscount_id INTEGER NOT NULL COMMENT 'Unique ID for each discount entry' AUTO_INCREMENT, \n",
      "\tt_shirt_id INTEGER NOT NULL COMMENT 'Foreign key referencing the t-shirt being discounted', \n",
      "\tpct_discount DECIMAL(5, 2) COMMENT 'Discount percentage (0-100)', \n",
      "\tPRIMARY KEY (discount_id), \n",
      "\tCONSTRAINT discounts_ibfk_1 FOREIGN KEY(t_shirt_id) REFERENCES t_shirts (t_shirt_id), \n",
      "\tCONSTRAINT discounts_chk_1 CHECK ((`pct_discount` between 0 and 100))\n",
      ")COLLATE utf8mb4_0900_ai_ci DEFAULT CHARSET=utf8mb4 COMMENT='Table storing discount information for t-shirts' ENGINE=InnoDB\n",
      "\n",
      "/*\n",
      "3 rows from discounts table:\n",
      "discount_id\tt_shirt_id\tpct_discount\n",
      "1\t1\t10.00\n",
      "2\t2\t15.00\n",
      "3\t3\t20.00\n",
      "*/\n",
      "\n",
      "\n",
      "CREATE TABLE t_shirts (\n",
      "\tt_shirt_id INTEGER NOT NULL COMMENT 'Unique ID for each t-shirt entry' AUTO_INCREMENT, \n",
      "\tbrand ENUM('Van Huesen','Levi','Nike','Adidas') NOT NULL COMMENT 'Brand of the t-shirt', \n",
      "\tcolor ENUM('Red','Blue','Black','White') NOT NULL COMMENT 'Color of the t-shirt', \n",
      "\tsize ENUM('XS','S','M','L','XL') NOT NULL COMMENT 'Size of the t-shirt', \n",
      "\tprice INTEGER COMMENT 'Price in arbitrary units, between 10 and 50', \n",
      "\tstock_quantity INTEGER NOT NULL COMMENT 'Number of items available in stock', \n",
      "\tPRIMARY KEY (t_shirt_id), \n",
      "\tCONSTRAINT t_shirts_chk_1 CHECK ((`price` between 10 and 50))\n",
      ")COLLATE utf8mb4_0900_ai_ci DEFAULT CHARSET=utf8mb4 COMMENT='Table storing t-shirt product information' ENGINE=InnoDB\n",
      "\n",
      "/*\n",
      "3 rows from t_shirts table:\n",
      "t_shirt_id\tbrand\tcolor\tsize\tprice\tstock_quantity\n",
      "1\tAdidas\tBlack\tXS\t12\t88\n",
      "2\tVan Huesen\tRed\tXL\t37\t49\n",
      "3\tVan Huesen\tBlue\tS\t21\t73\n",
      "*/\n",
      "---------------------------------------------------\n",
      "\n"
     ]
    }
   ],
   "source": [
    "# --- Initialize SQLDatabase ---\n",
    "# This connects to your MySQL database and extracts its schema information.\n",
    "# The 'sample_rows_in_table_info=3' helps Gemini understand the data types and typical values.\n",
    "\n",
    "from langchain.utilities import SQLDatabase\n",
    "\n",
    "print(\"--- Connecting to MySQL Database and Fetching Schema ---\")\n",
    "\n",
    "try:\n",
    "    db = SQLDatabase.from_uri(\n",
    "        f\"mysql+pymysql://{db_user}:{db_password}@{db_host}:{db_port}/{db_name}\",\n",
    "        sample_rows_in_table_info=3\n",
    "    )\n",
    "    database_schema = db.table_info\n",
    "    print(\"Database Schema:\\n\", database_schema)\n",
    "    print(\"---------------------------------------------------\\n\")\n",
    "except Exception as e:\n",
    "    print(f\"Error connecting to database or fetching schema: {e}\")\n",
    "    print(\"Please ensure MySQL is running, your .env variables are correct, and pymysql is installed.\")\n",
    "    exit() # Exit if database connection fails, as further steps depend on it.\n"
   ]
  },
  {
   "cell_type": "code",
   "execution_count": 18,
   "id": "ba4a2975-5501-416f-9514-6f7d142bd6b0",
   "metadata": {
    "scrolled": true
   },
   "outputs": [
    {
     "name": "stdout",
     "output_type": "stream",
     "text": [
      "Available models supporting 'generateContent':\n",
      "  - models/gemini-1.0-pro-vision-latest\n",
      "  - models/gemini-pro-vision\n",
      "  - models/gemini-1.5-pro-latest\n",
      "  - models/gemini-1.5-pro-002\n",
      "  - models/gemini-1.5-pro\n",
      "  - models/gemini-1.5-flash-latest\n",
      "  - models/gemini-1.5-flash\n",
      "  - models/gemini-1.5-flash-002\n",
      "  - models/gemini-1.5-flash-8b\n",
      "  - models/gemini-1.5-flash-8b-001\n",
      "  - models/gemini-1.5-flash-8b-latest\n",
      "  - models/gemini-2.5-pro-preview-03-25\n",
      "  - models/gemini-2.5-flash-preview-04-17\n",
      "  - models/gemini-2.5-flash-preview-05-20\n",
      "  - models/gemini-2.5-flash\n",
      "  - models/gemini-2.5-flash-preview-04-17-thinking\n",
      "  - models/gemini-2.5-flash-lite-preview-06-17\n",
      "  - models/gemini-2.5-pro-preview-05-06\n",
      "  - models/gemini-2.5-pro-preview-06-05\n",
      "  - models/gemini-2.5-pro\n",
      "  - models/gemini-2.0-flash-exp\n",
      "  - models/gemini-2.0-flash\n",
      "  - models/gemini-2.0-flash-001\n",
      "  - models/gemini-2.0-flash-exp-image-generation\n",
      "  - models/gemini-2.0-flash-lite-001\n",
      "  - models/gemini-2.0-flash-lite\n",
      "  - models/gemini-2.0-flash-preview-image-generation\n",
      "  - models/gemini-2.0-flash-lite-preview-02-05\n",
      "  - models/gemini-2.0-flash-lite-preview\n",
      "  - models/gemini-2.0-pro-exp\n",
      "  - models/gemini-2.0-pro-exp-02-05\n",
      "  - models/gemini-exp-1206\n",
      "  - models/gemini-2.0-flash-thinking-exp-01-21\n",
      "  - models/gemini-2.0-flash-thinking-exp\n",
      "  - models/gemini-2.0-flash-thinking-exp-1219\n",
      "  - models/gemini-2.5-flash-preview-tts\n",
      "  - models/gemini-2.5-pro-preview-tts\n",
      "  - models/learnlm-2.0-flash-experimental\n",
      "  - models/gemma-3-1b-it\n",
      "  - models/gemma-3-4b-it\n",
      "  - models/gemma-3-12b-it\n",
      "  - models/gemma-3-27b-it\n",
      "  - models/gemma-3n-e4b-it\n",
      "  - models/gemma-3n-e2b-it\n"
     ]
    }
   ],
   "source": [
    "# --- List Available Gemini Models ---\n",
    "# It's good practice to list models to confirm which ones support 'generateContent'\n",
    "# in your region and for your API key.\n",
    "print(\"Available models supporting 'generateContent':\")\n",
    "available_models = []\n",
    "for m in genai.list_models():\n",
    "    if 'generateContent' in m.supported_generation_methods:\n",
    "        available_models.append(m.name)\n",
    "        print(f\"  - {m.name}\")\n",
    "\n",
    "if not available_models:\n",
    "    print(\"\\nNo models found that support 'generateContent'. Please check your API key and region availability.\")\n",
    "    exit()"
   ]
  },
  {
   "cell_type": "code",
   "execution_count": 19,
   "id": "6a4daecd-0b09-4352-8d6d-44dcc57725a6",
   "metadata": {},
   "outputs": [],
   "source": [
    "# --- Initialize Gemini Model ---\n",
    "# We'll use 'gemini-1.5-flash' as it's often a good balance of speed and capability for free tier.\n",
    "# You can change this to another model name from the 'Available models' list if needed.\n",
    "model_name_to_use = 'gemini-1.5-flash' "
   ]
  },
  {
   "cell_type": "code",
   "execution_count": 20,
   "id": "e39cc6ca-3ffb-45a3-92e8-7a4e1abebbf7",
   "metadata": {},
   "outputs": [
    {
     "name": "stdout",
     "output_type": "stream",
     "text": [
      "Model initialised 😄\n",
      "Good to go !!!\n"
     ]
    }
   ],
   "source": [
    "# Verify the chosen model is in the available list\n",
    "if f\"models/{model_name_to_use}\" not in available_models and model_name_to_use not in available_models:\n",
    "    print(f\"\\nWarning: The chosen model '{model_name_to_use}' is not in the list of available models.\")\n",
    "    print(\"Attempting to use it anyway, but it might result in an error.\")\n",
    "    print(\"Consider changing 'model_name_to_use' to one from the list above.\")\n",
    "else:\n",
    "    model = genai.GenerativeModel(model_name_to_use)\n",
    "    print(\"Model initialised 😄\\nGood to go !!!\")"
   ]
  },
  {
   "cell_type": "code",
   "execution_count": 21,
   "id": "671e1679-3b2c-4f41-a11f-da05afca233a",
   "metadata": {},
   "outputs": [
    {
     "name": "stdout",
     "output_type": "stream",
     "text": [
      "\n",
      "--- Asking Gemini (General Question): 'Who is the Prime minister of India?' ---\n",
      "The current Prime Minister of India is Narendra Modi.\n",
      "---------------------------------------------------\n",
      "\n"
     ]
    }
   ],
   "source": [
    "# --- Example 1: Basic Text Generation with Gemini ---\n",
    "# This shows how Gemini responds to a general question.\n",
    "prompt_general = \"Who is the Prime minister of India?\"\n",
    "print(f\"\\n--- Asking Gemini (General Question): '{prompt_general}' ---\")\n",
    "try:\n",
    "    response_general = model.generate_content(prompt_general)\n",
    "    print(response_general.text.strip())\n",
    "except Exception as e:\n",
    "    print(f\"Error during general text generation: {e}\")\n",
    "print(\"---------------------------------------------------\\n\")"
   ]
  },
  {
   "cell_type": "code",
   "execution_count": 22,
   "id": "f06043aa-5f27-4e69-a78d-5a7534e35b3f",
   "metadata": {},
   "outputs": [],
   "source": [
    "import pymysql\n",
    "\n",
    "# ================================================================\n",
    "# --- NEW FUNCTION FOR SQL GENERATION AND EXECUTION ---\n",
    "# ================================================================\n",
    "\n",
    "def ask_sql_query(user_question: str, gemini_model, sql_database_obj):\n",
    "    \"\"\"\n",
    "    Generates a MySQL query from a natural language question using Gemini,\n",
    "    executes it against the provided database, and returns the results.\n",
    "\n",
    "    Args:\n",
    "        user_question (str): The natural language question from the user.\n",
    "        gemini_model: The initialized Gemini GenerativeModel instance.\n",
    "        sql_database_obj: The initialized langchain.utilities.SQLDatabase object.\n",
    "\n",
    "    Returns:\n",
    "        list: A list of tuples containing the query results.\n",
    "              Returns 0 if it's an aggregate query yielding no results (SUM/COUNT=NULL or empty).\n",
    "              Returns None if an error occurs.\n",
    "    \"\"\"\n",
    "    print(f\"\\n--- Processing user question: '{user_question}' ---\")\n",
    "\n",
    "    # Construct the prompt for Gemini\n",
    "    sql_generation_prompt = f\"\"\"\n",
    "Given the following MySQL database schema:\n",
    "\n",
    "{sql_database_obj.table_info}\n",
    "\n",
    "Generate a valid MySQL query for the following question:\n",
    "\"{user_question}\"\n",
    "\n",
    "When generating the query, ensure that:\n",
    "1. Column names from the schema are used exactly as provided.\n",
    "2. String comparisons (like 'Nike', 'extra small', 'white') should match the case and format\n",
    "   of data as it is actually stored in the database. If exact matches are needed,\n",
    "   use '='. If a case-insensitive match might be better, consider functions like LOWER().\n",
    "3. For questions asking \"how many\" or \"total\", generate a query that returns a single aggregate value (e.g., SUM, COUNT).\n",
    "   If no matching rows are found, the query should logically yield 0 or NULL for that aggregate.\n",
    "\n",
    "Provide only the SQL query, without any additional explanation or text.\n",
    "\"\"\"\n",
    "\n",
    "    # print(\"--- Prompt sent to Gemini ---\")\n",
    "    # print(sql_generation_prompt)\n",
    "    # print(\"---------------------------\\n\")\n",
    "\n",
    "    generated_sql = None\n",
    "    try:\n",
    "        response_sql = gemini_model.generate_content(sql_generation_prompt)\n",
    "        generated_sql = response_sql.text.strip()\n",
    "\n",
    "        # Remove Markdown code block delimiters\n",
    "        if generated_sql.startswith(\"```sql\"):\n",
    "            generated_sql = generated_sql[len(\"```sql\"):].strip()\n",
    "        if generated_sql.endswith(\"```\"):\n",
    "            generated_sql = generated_sql[:-len(\"```\")].strip()\n",
    "            \n",
    "        print(\"--- Generated SQL Query (cleaned) ---\")\n",
    "        print(generated_sql)\n",
    "        print(\"-----------------------------------\\n\")\n",
    "\n",
    "    except Exception as e:\n",
    "        print(f\"Error during SQL generation by Gemini: {e}\")\n",
    "        return None # Indicate failure\n",
    "\n",
    "    # Execute the generated SQL query\n",
    "    print(\"--- Executing SQL Query and Fetching Results ---\")\n",
    "    try:\n",
    "        conn = pymysql.connect(\n",
    "            host=db_host,\n",
    "            user=db_user,\n",
    "            password=db_password,\n",
    "            database=db_name,\n",
    "            port=int(db_port)\n",
    "        )\n",
    "        cursor = conn.cursor()\n",
    "        cursor.execute(generated_sql)\n",
    "        results = cursor.fetchall()\n",
    "        \n",
    "        if cursor.description:\n",
    "            columns = [i[0] for i in cursor.description]\n",
    "            print(\"Columns:\", columns)\n",
    "        \n",
    "        # --- ENHANCED HANDLING FOR EMPTY/NULL/SINGLE AGGREGATE RESULTS ---\n",
    "        if not results or (len(results) == 1 and results[0][0] is None):\n",
    "            print(\"Query Results: 0 (or no matching data)\")\n",
    "            return 0 # Return 0 for aggregate queries with no results\n",
    "        elif len(results) == 1 and len(results[0]) == 1 and isinstance(results[0][0], (int, float, decimal.Decimal)):\n",
    "            # If it's a single aggregate value (like COUNT(*), SUM), return the scalar directly\n",
    "            print(f\"Query Result: {results[0][0]}\")\n",
    "            return results[0][0]\n",
    "        else:\n",
    "            print(\"Query Results:\")\n",
    "            for row in results:\n",
    "                print(row)\n",
    "            return results # Return the actual results (list of tuples for multi-row/col)\n",
    "\n",
    "    except pymysql.Error as db_error:\n",
    "        print(f\"Error executing SQL query: {db_error}\")\n",
    "        return None # Indicate failure\n",
    "\n",
    "    finally:\n",
    "        if 'conn' in locals() and conn.open: # Ensure connection is closed even on error\n",
    "            conn.close()"
   ]
  },
  {
   "cell_type": "code",
   "execution_count": 23,
   "id": "d1ee2abf-840d-41d0-aa40-aef17fb6b155",
   "metadata": {},
   "outputs": [
    {
     "name": "stdout",
     "output_type": "stream",
     "text": [
      "\n",
      "--- Processing user question: 'How many tshirts do we have left for Nike in extra small size and red colour?' ---\n",
      "--- Generated SQL Query (cleaned) ---\n",
      "SELECT\n",
      "  COUNT(*)\n",
      "FROM t_shirts\n",
      "WHERE\n",
      "  brand = 'Nike' AND size = 'XS' AND color = 'Red';\n",
      "-----------------------------------\n",
      "\n",
      "--- Executing SQL Query and Fetching Results ---\n",
      "Columns: ['COUNT(*)']\n",
      "Query Result: 1\n",
      "\n",
      "Final Answer for 'How many tshirts do we have left for Nike in extra small size and red colour?': 1\n",
      "\n",
      "---------------------------------------------------\n",
      "\n"
     ]
    }
   ],
   "source": [
    "# This is the core logic for SpeakSQL project.\n",
    "# Test Query 1: Your original example\n",
    "q1 = \"How many tshirts do we have left for Nike in extra small size and red colour?\"\n",
    "result1 = ask_sql_query(q1, model, db)\n",
    "print(f\"\\nFinal Answer for '{q1}': {result1}\")\n",
    "\n",
    "print(\"\\n---------------------------------------------------\\n\")"
   ]
  },
  {
   "cell_type": "code",
   "execution_count": 24,
   "id": "53957fe5-563b-457d-aee0-314864ca10ac",
   "metadata": {},
   "outputs": [
    {
     "name": "stdout",
     "output_type": "stream",
     "text": [
      "\n",
      "--- Processing user question: 'If we have to sell all the Levi's tshirt today. How much revenue will our store generate?' ---\n",
      "--- Generated SQL Query (cleaned) ---\n",
      "SELECT\n",
      "  SUM(price)\n",
      "FROM t_shirts\n",
      "WHERE\n",
      "  brand = 'Levi';\n",
      "-----------------------------------\n",
      "\n",
      "--- Executing SQL Query and Fetching Results ---\n",
      "Columns: ['SUM(price)']\n",
      "Query Result: 484\n",
      "\n",
      "Final Answer for 'If we have to sell all the Levi's tshirt today. How much revenue will our store generate?': 484\n"
     ]
    }
   ],
   "source": [
    "q2 = \"If we have to sell all the Levi's tshirt today. How much revenue will our store generate?\"\n",
    "result2 = ask_sql_query(q2, model, db)\n",
    "print(f\"\\nFinal Answer for '{q2}': {result2}\")"
   ]
  },
  {
   "cell_type": "code",
   "execution_count": 25,
   "id": "b327e6ef-2f39-496b-aad4-690c1dd9a750",
   "metadata": {},
   "outputs": [
    {
     "name": "stdout",
     "output_type": "stream",
     "text": [
      "\n",
      "--- Processing user question: 'Show me the total number of products in stock.' ---\n",
      "--- Generated SQL Query (cleaned) ---\n",
      "SELECT SUM(stock_quantity) FROM t_shirts;\n",
      "-----------------------------------\n",
      "\n",
      "--- Executing SQL Query and Fetching Results ---\n",
      "Columns: ['SUM(stock_quantity)']\n",
      "Query Result: 3129\n",
      "\n",
      "Final Answer for 'Show me the total number of products in stock.': 3129\n"
     ]
    }
   ],
   "source": [
    "q3 = \"Show me the total number of products in stock.\"\n",
    "result3 = ask_sql_query(q3, model, db)\n",
    "print(f\"\\nFinal Answer for '{q3}': {result3}\")"
   ]
  },
  {
   "cell_type": "code",
   "execution_count": 26,
   "id": "f0ff1196-b4e4-4016-a9f6-c2d9a10ee0d9",
   "metadata": {},
   "outputs": [
    {
     "name": "stdout",
     "output_type": "stream",
     "text": [
      "\n",
      "--- Processing user question: 'How much is the price of inventory for all small sized tshirts?' ---\n",
      "--- Generated SQL Query (cleaned) ---\n",
      "SELECT SUM(price * stock_quantity)\n",
      "FROM t_shirts\n",
      "WHERE size = 'S';\n",
      "-----------------------------------\n",
      "\n",
      "--- Executing SQL Query and Fetching Results ---\n",
      "Columns: ['SUM(price * stock_quantity)']\n",
      "Query Result: 13924\n",
      "\n",
      "Final Answer for 'How much is the price of inventory for all small sized tshirts?': 13924\n"
     ]
    }
   ],
   "source": [
    "q4 = \"How much is the price of inventory for all small sized tshirts?\"\n",
    "result4 = ask_sql_query(q4, model, db)\n",
    "print(f\"\\nFinal Answer for '{q4}': {result4}\")"
   ]
  },
  {
   "cell_type": "code",
   "execution_count": 27,
   "id": "77ab6422-7cd3-4c38-867b-df48aedcff84",
   "metadata": {},
   "outputs": [
    {
     "name": "stdout",
     "output_type": "stream",
     "text": [
      "\n",
      "--- Processing user question: 'If we have to sell all the Levi's tshirt with discounts applied. How much revenue will our store generate? (post discounts)' ---\n",
      "--- Generated SQL Query (cleaned) ---\n",
      "SELECT\n",
      "  SUM(IFNULL(t.price * (1 - (d.pct_discount / 100)), t.price) * t.stock_quantity)\n",
      "FROM t_shirts AS t\n",
      "LEFT JOIN discounts AS d\n",
      "  ON t.t_shirt_id = d.t_shirt_id\n",
      "WHERE\n",
      "  t.brand = 'Levi';\n",
      "-----------------------------------\n",
      "\n",
      "--- Executing SQL Query and Fetching Results ---\n",
      "Columns: ['SUM(IFNULL(t.price * (1 - (d.pct_discount / 100)), t.price) * t.stock_quantity)']\n",
      "Query Result: 30972.450000\n",
      "\n",
      "Final Answer for 'If we have to sell all the Levi's tshirt with discounts applied. How much revenue will our store generate? (post discounts)': 30972.450000\n"
     ]
    }
   ],
   "source": [
    "q5 = \"If we have to sell all the Levi's tshirt with discounts applied. How much revenue will our store generate? (post discounts)\"\n",
    "# q5 = \"\"\"SELECT SUM(t.stock_quantity * IFNULL(t.price * (1 - d.pct_discount / 100), t.price)) as Total_Revenue\n",
    "#         FROM t_shirts AS t\n",
    "#         LEFT JOIN discounts AS d\n",
    "#           ON t.t_shirt_id = d.t_shirt_id\n",
    "#         WHERE t.brand = 'Levi';\"\"\"\n",
    "\n",
    "# OR \n",
    "\n",
    "# q5 = \"\"\"SELECT SUM(a.Total_Amount * ((100- COALESCE(discounts.pct_discount, 0))/100)) as Total_Revenue\n",
    "#         FROM (SELECT SUM(price*stock_quantity) as Total_Amount, t_shirt_id from t_shirts\n",
    "#             \tWHERE brand = 'Levi'\n",
    "#             \tGROUP BY t_shirt_id) a\n",
    "#         LEFT JOIN discounts \n",
    "#         ON a.t_shirt_id = discounts.t_shirt_id;\"\"\"\n",
    "\n",
    "# OR\n",
    "\n",
    "# WITH TotalAmounts AS (\n",
    "#     SELECT \n",
    "#         t_shirt_id,\n",
    "#         SUM(price * stock_quantity) AS Total_Amount\n",
    "#     FROM t_shirts\n",
    "#     WHERE brand = 'Levi'\n",
    "#     GROUP BY t_shirt_id\n",
    "# )\n",
    "\n",
    "# SELECT \n",
    "#     SUM(TotalAmounts.Total_Amount * ((100 - COALESCE(discounts.pct_discount, 0)) / 100)) AS Total_Revenue\n",
    "# FROM TotalAmounts\n",
    "# LEFT JOIN discounts \n",
    "# ON TotalAmounts.t_shirt_id = discounts.t_shirt_id;\n",
    "\n",
    "\n",
    "result5 = ask_sql_query(q5, model, db)\n",
    "print(f\"\\nFinal Answer for '{q5}': {result5}\")"
   ]
  },
  {
   "cell_type": "code",
   "execution_count": 28,
   "id": "73d5e09a-931a-4d13-9797-708c0be2fc38",
   "metadata": {},
   "outputs": [
    {
     "name": "stdout",
     "output_type": "stream",
     "text": [
      "\n",
      "--- Processing user question: 'How many White coloured Levi's tshirts do we have in each size?' ---\n",
      "--- Generated SQL Query (cleaned) ---\n",
      "SELECT\n",
      "  COUNT(*)\n",
      "FROM t_shirts\n",
      "WHERE\n",
      "  brand = 'Levi' AND color = 'White'\n",
      "GROUP BY\n",
      "  size;\n",
      "-----------------------------------\n",
      "\n",
      "--- Executing SQL Query and Fetching Results ---\n",
      "Columns: ['COUNT(*)']\n",
      "Query Results:\n",
      "(1,)\n",
      "(1,)\n",
      "(1,)\n",
      "(1,)\n",
      "(1,)\n",
      "\n",
      "Final Answer for 'How many White coloured Levi's tshirts do we have in each size?': ((1,), (1,), (1,), (1,), (1,))\n"
     ]
    }
   ],
   "source": [
    "q6 = \"How many White coloured Levi's tshirts do we have in each size?\"\n",
    "result6 = ask_sql_query(q6, model, db)\n",
    "print(f\"\\nFinal Answer for '{q6}': {result6}\")"
   ]
  },
  {
   "cell_type": "markdown",
   "id": "bf96c1bf-5b2e-4e29-b7d6-121b9bd4d4bf",
   "metadata": {},
   "source": [
    "## Few Shot Learning"
   ]
  },
  {
   "cell_type": "code",
   "execution_count": 29,
   "id": "55b48859-e635-46b3-91dc-d408745f3403",
   "metadata": {
    "editable": true,
    "slideshow": {
     "slide_type": ""
    },
    "tags": []
   },
   "outputs": [],
   "source": [
    "# few_shots = [\n",
    "#     {\n",
    "#         \"Question\":\"How many tshirts do we have left for Nike in extra small size and red colour?\",\n",
    "#         \"SQLQuery\":\"\"\"SELECT SUM(stock_quantity)\n",
    "#                       FROM t_shirts\n",
    "#                       WHERE brand = 'Nike' AND size = 'XS' AND color = 'Red';\"\"\",\n",
    "#         \"SQLResult\":\"Result of the SQL Query\",\n",
    "#         \"Answer\":\"83\"\n",
    "#     },\n",
    "#     {\n",
    "#         \"Question\":\"How much is the price of inventory for all small sized tshirts?\",\n",
    "#         \"SQLQuery\":\"\"\"SELECT SUM(price * stock_quantity)\n",
    "#                       FROM t_shirts\n",
    "#                       WHERE size = 'S';\"\"\",\n",
    "#         \"SQLResult\":\"Result of the SQL Query\",\n",
    "#         \"Answer\":\"13924\"\n",
    "#     },\n",
    "#     {\n",
    "#         \"Question\":\"If we have to sell all the Levi's tshirt with discounts applied. How much revenue will our store generate? (post discounts)\",\n",
    "#         \"SQLQuery\":\"\"\"SELECT SUM(a.Total_Amount * ((100- COALESCE(discounts.pct_discount, 0))/100)) as Total_Revenue\n",
    "#                       FROM (SELECT SUM(price*stock_quantity) as Total_Amount, t_shirt_id from t_shirts\n",
    "#                           \tWHERE brand = 'Levi'\n",
    "#                           \tGROUP BY t_shirt_id) a\n",
    "#                       LEFT JOIN discounts \n",
    "#                       ON a.t_shirt_id = discounts.t_shirt_id\"\"\",\n",
    "#         \"SQLResult\":\"Result of the SQL Query\",\n",
    "#         \"Answer\":\"30972.450000\"\n",
    "#     },\n",
    "#     {\n",
    "#         \"Question\":\"If we have to sell all the Levi's tshirt today. How much revenue will our store generate?\",\n",
    "#         \"SQLQuery\":\"\"\"SELECT SUM(t_shirts.price * t_shirts.stock_quantity)\n",
    "#                       FROM t_shirts\n",
    "#                       WHERE t_shirts.brand = 'Levi'; \"\"\",\n",
    "#         \"SQLResult\":\"Result of the SQL Query\",\n",
    "#         \"Answer\":\"32170\"\n",
    "#     },\n",
    "#     {\n",
    "#         \"Question\":\"How many White coloured Levi's tshirts do we have in each size?\",\n",
    "#         \"SQLQuery\":\"\"\"SELECT SUM(stock_quantity)\n",
    "#                       FROM t_shirts\n",
    "#                       WHERE brand = 'Levi' AND color = 'White'; \"\"\",\n",
    "#         \"SQLResult\":\"Result of the SQL Query\",\n",
    "#         \"Answer\":\"369\"\n",
    "#     },\n",
    "#     {\n",
    "#         \"Question\": \"How many Adidas t-shirts are available in total?\",\n",
    "#         \"SQLQuery\": \"\"\"SELECT SUM(stock_quantity)\n",
    "#                        FROM t_shirts\n",
    "#                        WHERE brand = 'Adidas';\"\"\",\n",
    "#         \"SQLResult\": \"Result of the SQL Query\",\n",
    "#         \"Answer\": \"758\"\n",
    "#     },\n",
    "#     {\n",
    "#         \"Question\": \"What is the total inventory value of all black coloured t-shirts?\",\n",
    "#         \"SQLQuery\": \"\"\"SELECT SUM(price * stock_quantity)\n",
    "#                        FROM t_shirts\n",
    "#                        WHERE color = 'Black';\"\"\",\n",
    "#         \"SQLResult\": \"Result of the SQL Query\",\n",
    "#         \"Answer\": \"22275\"\n",
    "#     },\n",
    "#     {\n",
    "#         \"Question\": \"How many Van Huesen t-shirts do we have in medium size?\",\n",
    "#         \"SQLQuery\": \"\"\"SELECT SUM(stock_quantity)\n",
    "#                        FROM t_shirts\n",
    "#                        WHERE brand = 'Van Huesen' AND size = 'M';\"\"\",\n",
    "#         \"SQLResult\": \"Result of the SQL Query\",\n",
    "#         \"Answer\": \"89\"\n",
    "#     },\n",
    "#     {\n",
    "#         \"Question\": \"What is the total revenue if we sell all Adidas t-shirts with discounts applied?\",\n",
    "#         \"SQLQuery\": \"\"\"SELECT SUM(a.Total_Amount * ((100 - COALESCE(discounts.pct_discount, 0)) / 100)) AS Total_Revenue\n",
    "#                        FROM (SELECT SUM(price * stock_quantity) AS Total_Amount, t_shirt_id \n",
    "#                              FROM t_shirts \n",
    "#                              WHERE brand = 'Adidas'\n",
    "#                              GROUP BY t_shirt_id) a\n",
    "#                        LEFT JOIN discounts \n",
    "#                        ON a.t_shirt_id = discounts.t_shirt_id;\"\"\",\n",
    "#         \"SQLResult\": \"Result of the SQL Query\",\n",
    "#         \"Answer\": \"19887.250000\"\n",
    "#     }\n",
    "# ]"
   ]
  },
  {
   "cell_type": "code",
   "execution_count": 45,
   "id": "a738dbe1-fe14-485e-9ac0-08a13c735d5b",
   "metadata": {},
   "outputs": [
    {
     "name": "stdout",
     "output_type": "stream",
     "text": [
      "\n",
      "--- Loaded 9 few-shot examples from 'few_shots.json' ---\n"
     ]
    }
   ],
   "source": [
    "# ================================================================\n",
    "# --- Load Few-Shot Examples from JSON File ---\n",
    "# ================================================================\n",
    "\n",
    "import json\n",
    "\n",
    "few_shots_file_path = 'few_shots.json'\n",
    "\n",
    "try:\n",
    "    with open(few_shots_file_path, 'r') as f:\n",
    "        few_shot_examples = json.load(f)\n",
    "    print(f\"\\n--- Loaded {len(few_shot_examples)} few-shot examples from '{few_shots_file_path}' ---\")\n",
    "except FileNotFoundError:\n",
    "    print(f\"\\nError: '{few_shots_file_path}' not found. Please create the file with your few-shot examples.\")\n",
    "    few_shot_examples = [] # Initialize as empty to avoid errors\n",
    "except json.JSONDecodeError as e:\n",
    "    print(f\"\\nError decoding JSON from '{few_shots_file_path}': {e}\")\n",
    "    print(\"Please ensure your few_shots.json file is valid JSON.\")\n",
    "    few_shot_examples = []"
   ]
  },
  {
   "cell_type": "code",
   "execution_count": 31,
   "id": "68b67966-969e-40d0-90b7-79cfdcb202d3",
   "metadata": {
    "scrolled": true
   },
   "outputs": [
    {
     "name": "stdout",
     "output_type": "stream",
     "text": [
      "--- Initializing HuggingFace Embedding Model ---\n",
      "HuggingFace Embedding Model 'sentence-transformers/all-MiniLM-L6-v2' loaded successfully.\n"
     ]
    }
   ],
   "source": [
    "from langchain_huggingface import HuggingFaceEmbeddings\n",
    "import numpy as np\n",
    "\n",
    "print(\"--- Initializing HuggingFace Embedding Model ---\")\n",
    "try:\n",
    "    # Using the updated HuggingFaceEmbeddings from langchain_huggingface\n",
    "    embedding_model_name = 'sentence-transformers/all-MiniLM-L6-v2'\n",
    "    embeddings = HuggingFaceEmbeddings(model_name=embedding_model_name)\n",
    "    print(f\"HuggingFace Embedding Model '{embedding_model_name}' loaded successfully.\")\n",
    "except Exception as e:\n",
    "    print(f\"Error loading HuggingFace embedding model: {e}\")\n",
    "    print(\"Please ensure 'langchain-huggingface' is installed: pip install -U langchain-huggingface\")\n",
    "    # It's good practice to exit or handle this error gracefully if embeddings are critical\n",
    "    exit() "
   ]
  },
  {
   "cell_type": "code",
   "execution_count": 53,
   "id": "19b9d0b8-e66f-45ba-8921-1c9b2ad54c6b",
   "metadata": {},
   "outputs": [],
   "source": [
    "from langchain.vectorstores import Chroma # Import the Chroma vector store class.\n",
    "\n",
    "# Prepare the text data for vectorization.\n",
    "# It concatenates all string values from each dictionary in few_shot_examples into a single string for each example. This combined string will be embedded.\n",
    "to_vectorize = [\"\".join(example.values()) for example in few_shot_examples]\n",
    "\n",
    "# Create a Chroma vector store from the prepared text data.\n",
    "# - `to_vectorize`: The list of strings to be embedded and stored.\n",
    "# - `embedding`: The embedding model (HuggingFaceEmbeddings instance) used to convert text to vectors.\n",
    "# - `metadatas`: A list of dictionaries (your original few_shot_examples) that will be associated with each embedded text. This allows you to retrieve the original question, SQL query, etc., when a similar query is made.\n",
    "vectorstore = Chroma.from_texts(to_vectorize, embedding=embeddings, metadatas=few_shot_examples)"
   ]
  },
  {
   "cell_type": "code",
   "execution_count": 65,
   "id": "f128cf1a-a146-4c7e-afd9-c7cc4acb3ffa",
   "metadata": {},
   "outputs": [],
   "source": [
    "from langchain.prompts import SemanticSimilarityExampleSelector\n",
    "\n",
    "# Initialize the example selector.\n",
    "# - `vectorstore`: The Chroma vector store containing your embedded few-shot examples.\n",
    "# - `k`: The number of most similar examples to retrieve.\n",
    "example_selector = SemanticSimilarityExampleSelector(\n",
    "    vectorstore=vectorstore, \n",
    "    k=2\n",
    ")"
   ]
  },
  {
   "cell_type": "code",
   "execution_count": 66,
   "id": "20d2cdd7-051d-471b-8fc1-3b58f6c5fef6",
   "metadata": {},
   "outputs": [
    {
     "data": {
      "text/plain": [
       "[{'Question': 'How many tshirts do we have left for Nike in extra small size and red colour?',\n",
       "  'SQLResult': ' Result of the SQL Query - ',\n",
       "  'Answer': '83',\n",
       "  'SQLQuery': \"SELECT SUM(stock_quantity) FROM t_shirts WHERE brand = 'Nike' AND size = 'XS' AND color = 'Red';\"},\n",
       " {'Question': \"How many White coloured Levi's tshirts do we have in each size?\",\n",
       "  'SQLQuery': \"SELECT SUM(stock_quantity) FROM t_shirts WHERE brand = 'Levi' AND color = 'White'; \",\n",
       "  'Answer': '369',\n",
       "  'SQLResult': ' Result of the SQL Query - '}]"
      ]
     },
     "execution_count": 66,
     "metadata": {},
     "output_type": "execute_result"
    }
   ],
   "source": [
    "# Select examples based on a new question.\n",
    "# It finds the 'k' most semantically similar examples from the vectorstore.\n",
    "example_selector.select_examples({\"Question\":\"How many VanHeusen tshirts I have in my store?\"})"
   ]
  },
  {
   "cell_type": "code",
   "execution_count": null,
   "id": "3e13d332-9de5-484a-98b7-8c6a9d97c6c8",
   "metadata": {},
   "outputs": [],
   "source": []
  }
 ],
 "metadata": {
  "kernelspec": {
   "display_name": "Python 3 (ipykernel)",
   "language": "python",
   "name": "python3"
  },
  "language_info": {
   "codemirror_mode": {
    "name": "ipython",
    "version": 3
   },
   "file_extension": ".py",
   "mimetype": "text/x-python",
   "name": "python",
   "nbconvert_exporter": "python",
   "pygments_lexer": "ipython3",
   "version": "3.12.3"
  }
 },
 "nbformat": 4,
 "nbformat_minor": 5
}
