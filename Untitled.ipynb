{
 "cells": [
  {
   "cell_type": "code",
   "execution_count": null,
   "id": "95f46c96-79bc-4154-96bd-4d81c72c0eba",
   "metadata": {
    "scrolled": true
   },
   "outputs": [],
   "source": [
    "%pip install -r requirements.txt"
   ]
  },
  {
   "cell_type": "code",
   "execution_count": 1,
   "id": "64683556-a8f7-436b-bd34-eadba3e12921",
   "metadata": {},
   "outputs": [
    {
     "data": {
      "text/plain": [
       "True"
      ]
     },
     "execution_count": 1,
     "metadata": {},
     "output_type": "execute_result"
    }
   ],
   "source": [
    "import os\n",
    "from dotenv import load_dotenv\n",
    "\n",
    "# Load environment variables from .env file\n",
    "load_dotenv()"
   ]
  },
  {
   "cell_type": "code",
   "execution_count": 2,
   "id": "e1727d95-93cb-4674-9b63-995576729711",
   "metadata": {},
   "outputs": [],
   "source": [
    "db_user =  os.getenv(\"db_user\")\n",
    "db_password =  os.getenv(\"db_password\")\n",
    "db_host =  os.getenv(\"db_host\")\n",
    "db_port =  os.getenv(\"db_port\")\n",
    "db_name =  os.getenv(\"db_name\")"
   ]
  },
  {
   "cell_type": "code",
   "execution_count": 3,
   "id": "dd99a73f-c55a-4f57-ac26-20bb1d5700ee",
   "metadata": {},
   "outputs": [
    {
     "name": "stdout",
     "output_type": "stream",
     "text": [
      "\n",
      "CREATE TABLE discounts (\n",
      "\tdiscount_id INTEGER NOT NULL AUTO_INCREMENT, \n",
      "\tt_shirt_id INTEGER NOT NULL, \n",
      "\tpct_discount DECIMAL(5, 2), \n",
      "\tPRIMARY KEY (discount_id), \n",
      "\tCONSTRAINT discounts_ibfk_1 FOREIGN KEY(t_shirt_id) REFERENCES t_shirts (t_shirt_id), \n",
      "\tCONSTRAINT discounts_chk_1 CHECK ((`pct_discount` between 0 and 100))\n",
      ")ENGINE=InnoDB DEFAULT CHARSET=utf8mb4 COLLATE utf8mb4_0900_ai_ci\n",
      "\n",
      "/*\n",
      "3 rows from discounts table:\n",
      "discount_id\tt_shirt_id\tpct_discount\n",
      "1\t1\t10.00\n",
      "2\t2\t15.00\n",
      "3\t3\t20.00\n",
      "*/\n",
      "\n",
      "\n",
      "CREATE TABLE t_shirts (\n",
      "\tt_shirt_id INTEGER NOT NULL AUTO_INCREMENT, \n",
      "\tbrand ENUM('Van Huesen','Levi','Nike','Adidas') NOT NULL, \n",
      "\tcolor ENUM('Red','Blue','Black','White') NOT NULL, \n",
      "\tsize ENUM('XS','S','M','L','XL') NOT NULL, \n",
      "\tprice INTEGER, \n",
      "\tstock_quantity INTEGER NOT NULL, \n",
      "\tPRIMARY KEY (t_shirt_id), \n",
      "\tCONSTRAINT t_shirts_chk_1 CHECK ((`price` between 10 and 50))\n",
      ")ENGINE=InnoDB DEFAULT CHARSET=utf8mb4 COLLATE utf8mb4_0900_ai_ci\n",
      "\n",
      "/*\n",
      "3 rows from t_shirts table:\n",
      "t_shirt_id\tbrand\tcolor\tsize\tprice\tstock_quantity\n",
      "1\tNike\tBlack\tM\t45\t22\n",
      "2\tVan Huesen\tRed\tXL\t25\t24\n",
      "3\tNike\tRed\tS\t47\t92\n",
      "*/\n"
     ]
    }
   ],
   "source": [
    "from langchain.utilities import SQLDatabase\n",
    "\n",
    "db = SQLDatabase.from_uri(\n",
    "    f\"mysql+pymysql://{db_user}:{db_password}@{db_host}:{db_port}/{db_name}\",\n",
    "    sample_rows_in_table_info=3\n",
    ")\n",
    "\n",
    "print(db.table_info)"
   ]
  },
  {
   "cell_type": "code",
   "execution_count": 19,
   "id": "f029df37-59ed-4750-b9cd-eb0e73b02800",
   "metadata": {},
   "outputs": [
    {
     "name": "stdout",
     "output_type": "stream",
     "text": [
      " The capital of India is New Delhi. It serves as the center of the executive, legislative, and judicial branches of the Indian government. However, it's important to note that New Delhi is not a state or union territory but a city administered directly by the central government.\n"
     ]
    }
   ],
   "source": [
    "from langchain_ollama import OllamaLLM\n",
    "\n",
    "# ✅ Use local Mistral model via Ollama\n",
    "llm = Ollama(model=\"mistral\", temperature=0.2)\n",
    "\n",
    "response = llm.invoke(\"What is the capital of India?\")\n",
    "print(response) "
   ]
  },
  {
   "cell_type": "code",
   "execution_count": 20,
   "id": "a348f0cd-2ecc-43b0-9165-d005bceefb6d",
   "metadata": {},
   "outputs": [],
   "source": [
    "# Not using SQLDatabaseChain as it is not efficient\n",
    "from langchain_experimental.sql import SQLDatabaseChain\n",
    "\n",
    "# Setup Sequential SQL Chain\n",
    "db_chain = SQLDatabaseChain.from_llm(\n",
    "    llm=llm,                       # The language model instance (here Google Gemini) used to generate SQL queries from natural language.\n",
    "    db=db,                         # The SQLDatabase object representing the connected database; used to run queries.\n",
    "    verbose=True,                  # Enables detailed logging of the chain’s internal steps for debugging and transparency.\n",
    "    return_intermediate_steps=False,  # Returns the intermediate steps (like generated SQL query) along with the final answer.\n",
    "    use_query_checker=False,        # Activates a query validation step to check and correct SQL before execution, reducing errors.\n",
    "    return_direct=False             # Returns only the final query result directly, skipping extra text explanation (if supported).\n",
    ")"
   ]
  },
  {
   "cell_type": "code",
   "execution_count": 21,
   "id": "9e284738-3df1-49fa-a9f9-2d7d6632fc7c",
   "metadata": {},
   "outputs": [
    {
     "name": "stdout",
     "output_type": "stream",
     "text": [
      "\n",
      "\n",
      "\u001b[1m> Entering new SQLDatabaseChain chain...\u001b[0m\n",
      "How many tshirts do we have left for Nike in extra small size and white colour?\n",
      "SQLQuery:\u001b[32;1m\u001b[1;3mSELECT `stock_quantity` FROM `t_shirts` WHERE `brand` = 'Nike' AND `size` = 'XS' AND `color` = 'White';\u001b[0m\n",
      "SQLResult: \u001b[33;1m\u001b[1;3m[(93,)]\u001b[0m\n",
      "Answer:\u001b[32;1m\u001b[1;3m93 t-shirts for Nike in extra small size and white color are left.\u001b[0m\n",
      "\u001b[1m> Finished chain.\u001b[0m\n",
      "{'query': 'How many tshirts do we have left for Nike in extra small size and white colour?', 'result': '93 t-shirts for Nike in extra small size and white color are left.'}\n",
      "\n",
      "\n",
      "\n",
      "Final Answer: 93 t-shirts for Nike in extra small size and white color are left.\n"
     ]
    }
   ],
   "source": [
    "q1 = \"How many tshirts do we have left for Nike in extra small size and white colour?\"\n",
    "response = db_chain.invoke(q1)\n",
    "print(response)\n",
    "print(\"\\n\\n\\nFinal Answer:\", response.get('result'))"
   ]
  },
  {
   "cell_type": "code",
   "execution_count": 5,
   "id": "6e8cb546-38dd-4376-98d5-459a077da355",
   "metadata": {},
   "outputs": [],
   "source": []
  },
  {
   "cell_type": "code",
   "execution_count": null,
   "id": "ddb40623-aceb-4db2-975f-14d3f0dd00f1",
   "metadata": {},
   "outputs": [],
   "source": []
  }
 ],
 "metadata": {
  "kernelspec": {
   "display_name": "Python 3 (ipykernel)",
   "language": "python",
   "name": "python3"
  },
  "language_info": {
   "codemirror_mode": {
    "name": "ipython",
    "version": 3
   },
   "file_extension": ".py",
   "mimetype": "text/x-python",
   "name": "python",
   "nbconvert_exporter": "python",
   "pygments_lexer": "ipython3",
   "version": "3.12.3"
  }
 },
 "nbformat": 4,
 "nbformat_minor": 5
}
