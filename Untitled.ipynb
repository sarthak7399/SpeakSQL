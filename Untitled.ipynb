{
 "cells": [
  {
   "cell_type": "code",
   "execution_count": null,
   "id": "95f46c96-79bc-4154-96bd-4d81c72c0eba",
   "metadata": {
    "scrolled": true
   },
   "outputs": [],
   "source": [
    "%pip install -r requirements.txt"
   ]
  },
  {
   "cell_type": "code",
   "execution_count": 1,
   "id": "16c295e7-23f6-45eb-ac1a-3771295408c9",
   "metadata": {
    "scrolled": true
   },
   "outputs": [
    {
     "name": "stdout",
     "output_type": "stream",
     "text": [
      "Requirement already satisfied: google-generativeai in ./SpeakSQLenv/lib/python3.12/site-packages (0.8.5)\n",
      "Requirement already satisfied: langchain-google-genai in ./SpeakSQLenv/lib/python3.12/site-packages (2.0.10)\n",
      "Collecting langchain-google-genai\n",
      "  Using cached langchain_google_genai-2.1.7-py3-none-any.whl.metadata (7.0 kB)\n",
      "Requirement already satisfied: langchain-huggingface in ./SpeakSQLenv/lib/python3.12/site-packages (0.3.0)\n",
      "Requirement already satisfied: langchain in ./SpeakSQLenv/lib/python3.12/site-packages (0.3.26)\n",
      "Requirement already satisfied: langchain-community in ./SpeakSQLenv/lib/python3.12/site-packages (0.3.27)\n",
      "Requirement already satisfied: langsmith in ./SpeakSQLenv/lib/python3.12/site-packages (0.4.5)\n",
      "Requirement already satisfied: pymysql in ./SpeakSQLenv/lib/python3.12/site-packages (1.1.1)\n",
      "Requirement already satisfied: sentence-transformers in ./SpeakSQLenv/lib/python3.12/site-packages (5.0.0)\n",
      "Requirement already satisfied: google-ai-generativelanguage==0.6.15 in ./SpeakSQLenv/lib/python3.12/site-packages (from google-generativeai) (0.6.15)\n",
      "Requirement already satisfied: google-api-core in ./SpeakSQLenv/lib/python3.12/site-packages (from google-generativeai) (2.25.0)\n",
      "Requirement already satisfied: google-api-python-client in ./SpeakSQLenv/lib/python3.12/site-packages (from google-generativeai) (2.171.0)\n",
      "Requirement already satisfied: google-auth>=2.15.0 in ./SpeakSQLenv/lib/python3.12/site-packages (from google-generativeai) (2.40.1)\n",
      "Requirement already satisfied: protobuf in ./SpeakSQLenv/lib/python3.12/site-packages (from google-generativeai) (5.29.5)\n",
      "Requirement already satisfied: pydantic in ./SpeakSQLenv/lib/python3.12/site-packages (from google-generativeai) (2.11.4)\n",
      "Requirement already satisfied: tqdm in ./SpeakSQLenv/lib/python3.12/site-packages (from google-generativeai) (4.67.1)\n",
      "Requirement already satisfied: typing-extensions in ./SpeakSQLenv/lib/python3.12/site-packages (from google-generativeai) (4.13.2)\n",
      "Requirement already satisfied: proto-plus<2.0.0dev,>=1.22.3 in ./SpeakSQLenv/lib/python3.12/site-packages (from google-ai-generativelanguage==0.6.15->google-generativeai) (1.26.1)\n",
      "Requirement already satisfied: filetype<2.0.0,>=1.2.0 in ./SpeakSQLenv/lib/python3.12/site-packages (from langchain-google-genai) (1.2.0)\n",
      "INFO: pip is looking at multiple versions of langchain-google-genai to determine which version is compatible with other requirements. This could take a while.\n",
      "  Using cached langchain_google_genai-2.1.6-py3-none-any.whl.metadata (7.0 kB)\n",
      "  Using cached langchain_google_genai-2.1.5-py3-none-any.whl.metadata (5.2 kB)\n",
      "  Using cached langchain_google_genai-2.1.4-py3-none-any.whl.metadata (5.2 kB)\n",
      "  Using cached langchain_google_genai-2.1.3-py3-none-any.whl.metadata (4.7 kB)\n",
      "  Using cached langchain_google_genai-2.1.2-py3-none-any.whl.metadata (4.7 kB)\n",
      "  Using cached langchain_google_genai-2.1.1-py3-none-any.whl.metadata (4.7 kB)\n",
      "  Using cached langchain_google_genai-2.1.0-py3-none-any.whl.metadata (3.6 kB)\n",
      "INFO: pip is still looking at multiple versions of langchain-google-genai to determine which version is compatible with other requirements. This could take a while.\n",
      "  Using cached langchain_google_genai-2.0.11-py3-none-any.whl.metadata (3.6 kB)\n",
      "Requirement already satisfied: langchain-core<0.4.0,>=0.3.37 in ./SpeakSQLenv/lib/python3.12/site-packages (from langchain-google-genai) (0.3.68)\n",
      "Requirement already satisfied: tokenizers>=0.19.1 in ./SpeakSQLenv/lib/python3.12/site-packages (from langchain-huggingface) (0.21.2)\n",
      "Requirement already satisfied: huggingface-hub>=0.30.2 in ./SpeakSQLenv/lib/python3.12/site-packages (from langchain-huggingface) (0.33.2)\n",
      "Requirement already satisfied: langchain-text-splitters<1.0.0,>=0.3.8 in ./SpeakSQLenv/lib/python3.12/site-packages (from langchain) (0.3.8)\n",
      "Requirement already satisfied: SQLAlchemy<3,>=1.4 in ./SpeakSQLenv/lib/python3.12/site-packages (from langchain) (2.0.41)\n",
      "Requirement already satisfied: requests<3,>=2 in ./SpeakSQLenv/lib/python3.12/site-packages (from langchain) (2.32.3)\n",
      "Requirement already satisfied: PyYAML>=5.3 in ./SpeakSQLenv/lib/python3.12/site-packages (from langchain) (6.0.2)\n",
      "Requirement already satisfied: aiohttp<4.0.0,>=3.8.3 in ./SpeakSQLenv/lib/python3.12/site-packages (from langchain-community) (3.11.18)\n",
      "Requirement already satisfied: tenacity!=8.4.0,<10,>=8.1.0 in ./SpeakSQLenv/lib/python3.12/site-packages (from langchain-community) (9.1.2)\n",
      "Requirement already satisfied: dataclasses-json<0.7,>=0.5.7 in ./SpeakSQLenv/lib/python3.12/site-packages (from langchain-community) (0.6.7)\n",
      "Requirement already satisfied: pydantic-settings<3.0.0,>=2.4.0 in ./SpeakSQLenv/lib/python3.12/site-packages (from langchain-community) (2.9.1)\n",
      "Requirement already satisfied: httpx-sse<1.0.0,>=0.4.0 in ./SpeakSQLenv/lib/python3.12/site-packages (from langchain-community) (0.4.0)\n",
      "Requirement already satisfied: numpy>=1.26.2 in ./SpeakSQLenv/lib/python3.12/site-packages (from langchain-community) (2.2.6)\n",
      "Requirement already satisfied: httpx<1,>=0.23.0 in ./SpeakSQLenv/lib/python3.12/site-packages (from langsmith) (0.28.1)\n",
      "Requirement already satisfied: orjson<4.0.0,>=3.9.14 in ./SpeakSQLenv/lib/python3.12/site-packages (from langsmith) (3.10.18)\n",
      "Requirement already satisfied: packaging>=23.2 in ./SpeakSQLenv/lib/python3.12/site-packages (from langsmith) (24.2)\n",
      "Requirement already satisfied: requests-toolbelt<2.0.0,>=1.0.0 in ./SpeakSQLenv/lib/python3.12/site-packages (from langsmith) (1.0.0)\n",
      "Requirement already satisfied: zstandard<0.24.0,>=0.23.0 in ./SpeakSQLenv/lib/python3.12/site-packages (from langsmith) (0.23.0)\n",
      "Requirement already satisfied: transformers<5.0.0,>=4.41.0 in ./SpeakSQLenv/lib/python3.12/site-packages (from sentence-transformers) (4.53.0)\n",
      "Requirement already satisfied: torch>=1.11.0 in ./SpeakSQLenv/lib/python3.12/site-packages (from sentence-transformers) (2.7.1)\n",
      "Requirement already satisfied: scikit-learn in ./SpeakSQLenv/lib/python3.12/site-packages (from sentence-transformers) (1.7.0)\n",
      "Requirement already satisfied: scipy in ./SpeakSQLenv/lib/python3.12/site-packages (from sentence-transformers) (1.16.0)\n",
      "Requirement already satisfied: Pillow in ./SpeakSQLenv/lib/python3.12/site-packages (from sentence-transformers) (11.3.0)\n",
      "Requirement already satisfied: aiohappyeyeballs>=2.3.0 in ./SpeakSQLenv/lib/python3.12/site-packages (from aiohttp<4.0.0,>=3.8.3->langchain-community) (2.6.1)\n",
      "Requirement already satisfied: aiosignal>=1.1.2 in ./SpeakSQLenv/lib/python3.12/site-packages (from aiohttp<4.0.0,>=3.8.3->langchain-community) (1.3.2)\n",
      "Requirement already satisfied: attrs>=17.3.0 in ./SpeakSQLenv/lib/python3.12/site-packages (from aiohttp<4.0.0,>=3.8.3->langchain-community) (25.3.0)\n",
      "Requirement already satisfied: frozenlist>=1.1.1 in ./SpeakSQLenv/lib/python3.12/site-packages (from aiohttp<4.0.0,>=3.8.3->langchain-community) (1.6.0)\n",
      "Requirement already satisfied: multidict<7.0,>=4.5 in ./SpeakSQLenv/lib/python3.12/site-packages (from aiohttp<4.0.0,>=3.8.3->langchain-community) (6.4.4)\n",
      "Requirement already satisfied: propcache>=0.2.0 in ./SpeakSQLenv/lib/python3.12/site-packages (from aiohttp<4.0.0,>=3.8.3->langchain-community) (0.3.1)\n",
      "Requirement already satisfied: yarl<2.0,>=1.17.0 in ./SpeakSQLenv/lib/python3.12/site-packages (from aiohttp<4.0.0,>=3.8.3->langchain-community) (1.20.0)\n",
      "Requirement already satisfied: marshmallow<4.0.0,>=3.18.0 in ./SpeakSQLenv/lib/python3.12/site-packages (from dataclasses-json<0.7,>=0.5.7->langchain-community) (3.26.1)\n",
      "Requirement already satisfied: typing-inspect<1,>=0.4.0 in ./SpeakSQLenv/lib/python3.12/site-packages (from dataclasses-json<0.7,>=0.5.7->langchain-community) (0.9.0)\n",
      "Requirement already satisfied: googleapis-common-protos<2.0.0,>=1.56.2 in ./SpeakSQLenv/lib/python3.12/site-packages (from google-api-core->google-generativeai) (1.70.0)\n",
      "Requirement already satisfied: cachetools<6.0,>=2.0.0 in ./SpeakSQLenv/lib/python3.12/site-packages (from google-auth>=2.15.0->google-generativeai) (5.5.2)\n",
      "Requirement already satisfied: pyasn1-modules>=0.2.1 in ./SpeakSQLenv/lib/python3.12/site-packages (from google-auth>=2.15.0->google-generativeai) (0.4.2)\n",
      "Requirement already satisfied: rsa<5,>=3.1.4 in ./SpeakSQLenv/lib/python3.12/site-packages (from google-auth>=2.15.0->google-generativeai) (4.9.1)\n",
      "Requirement already satisfied: anyio in ./SpeakSQLenv/lib/python3.12/site-packages (from httpx<1,>=0.23.0->langsmith) (4.9.0)\n",
      "Requirement already satisfied: certifi in ./SpeakSQLenv/lib/python3.12/site-packages (from httpx<1,>=0.23.0->langsmith) (2025.4.26)\n",
      "Requirement already satisfied: httpcore==1.* in ./SpeakSQLenv/lib/python3.12/site-packages (from httpx<1,>=0.23.0->langsmith) (1.0.9)\n",
      "Requirement already satisfied: idna in ./SpeakSQLenv/lib/python3.12/site-packages (from httpx<1,>=0.23.0->langsmith) (3.10)\n",
      "Requirement already satisfied: h11>=0.16 in ./SpeakSQLenv/lib/python3.12/site-packages (from httpcore==1.*->httpx<1,>=0.23.0->langsmith) (0.16.0)\n",
      "Requirement already satisfied: filelock in ./SpeakSQLenv/lib/python3.12/site-packages (from huggingface-hub>=0.30.2->langchain-huggingface) (3.18.0)\n",
      "Requirement already satisfied: fsspec>=2023.5.0 in ./SpeakSQLenv/lib/python3.12/site-packages (from huggingface-hub>=0.30.2->langchain-huggingface) (2025.5.1)\n",
      "Requirement already satisfied: hf-xet<2.0.0,>=1.1.2 in ./SpeakSQLenv/lib/python3.12/site-packages (from huggingface-hub>=0.30.2->langchain-huggingface) (1.1.5)\n",
      "Requirement already satisfied: jsonpatch<2.0,>=1.33 in ./SpeakSQLenv/lib/python3.12/site-packages (from langchain-core<0.4.0,>=0.3.37->langchain-google-genai) (1.33)\n",
      "Requirement already satisfied: annotated-types>=0.6.0 in ./SpeakSQLenv/lib/python3.12/site-packages (from pydantic->google-generativeai) (0.7.0)\n",
      "Requirement already satisfied: pydantic-core==2.33.2 in ./SpeakSQLenv/lib/python3.12/site-packages (from pydantic->google-generativeai) (2.33.2)\n",
      "Requirement already satisfied: typing-inspection>=0.4.0 in ./SpeakSQLenv/lib/python3.12/site-packages (from pydantic->google-generativeai) (0.4.0)\n",
      "Requirement already satisfied: python-dotenv>=0.21.0 in ./SpeakSQLenv/lib/python3.12/site-packages (from pydantic-settings<3.0.0,>=2.4.0->langchain-community) (1.1.0)\n",
      "Requirement already satisfied: charset-normalizer<4,>=2 in ./SpeakSQLenv/lib/python3.12/site-packages (from requests<3,>=2->langchain) (3.4.2)\n",
      "Requirement already satisfied: urllib3<3,>=1.21.1 in ./SpeakSQLenv/lib/python3.12/site-packages (from requests<3,>=2->langchain) (2.4.0)\n",
      "Requirement already satisfied: greenlet>=1 in ./SpeakSQLenv/lib/python3.12/site-packages (from SQLAlchemy<3,>=1.4->langchain) (3.2.2)\n",
      "Requirement already satisfied: setuptools in ./SpeakSQLenv/lib/python3.12/site-packages (from torch>=1.11.0->sentence-transformers) (80.8.0)\n",
      "Requirement already satisfied: sympy>=1.13.3 in ./SpeakSQLenv/lib/python3.12/site-packages (from torch>=1.11.0->sentence-transformers) (1.14.0)\n",
      "Requirement already satisfied: networkx in ./SpeakSQLenv/lib/python3.12/site-packages (from torch>=1.11.0->sentence-transformers) (3.5)\n",
      "Requirement already satisfied: jinja2 in ./SpeakSQLenv/lib/python3.12/site-packages (from torch>=1.11.0->sentence-transformers) (3.1.6)\n",
      "Requirement already satisfied: nvidia-cuda-nvrtc-cu12==12.6.77 in ./SpeakSQLenv/lib/python3.12/site-packages (from torch>=1.11.0->sentence-transformers) (12.6.77)\n",
      "Requirement already satisfied: nvidia-cuda-runtime-cu12==12.6.77 in ./SpeakSQLenv/lib/python3.12/site-packages (from torch>=1.11.0->sentence-transformers) (12.6.77)\n",
      "Requirement already satisfied: nvidia-cuda-cupti-cu12==12.6.80 in ./SpeakSQLenv/lib/python3.12/site-packages (from torch>=1.11.0->sentence-transformers) (12.6.80)\n",
      "Requirement already satisfied: nvidia-cudnn-cu12==9.5.1.17 in ./SpeakSQLenv/lib/python3.12/site-packages (from torch>=1.11.0->sentence-transformers) (9.5.1.17)\n",
      "Requirement already satisfied: nvidia-cublas-cu12==12.6.4.1 in ./SpeakSQLenv/lib/python3.12/site-packages (from torch>=1.11.0->sentence-transformers) (12.6.4.1)\n",
      "Requirement already satisfied: nvidia-cufft-cu12==11.3.0.4 in ./SpeakSQLenv/lib/python3.12/site-packages (from torch>=1.11.0->sentence-transformers) (11.3.0.4)\n",
      "Requirement already satisfied: nvidia-curand-cu12==10.3.7.77 in ./SpeakSQLenv/lib/python3.12/site-packages (from torch>=1.11.0->sentence-transformers) (10.3.7.77)\n",
      "Requirement already satisfied: nvidia-cusolver-cu12==11.7.1.2 in ./SpeakSQLenv/lib/python3.12/site-packages (from torch>=1.11.0->sentence-transformers) (11.7.1.2)\n",
      "Requirement already satisfied: nvidia-cusparse-cu12==12.5.4.2 in ./SpeakSQLenv/lib/python3.12/site-packages (from torch>=1.11.0->sentence-transformers) (12.5.4.2)\n",
      "Requirement already satisfied: nvidia-cusparselt-cu12==0.6.3 in ./SpeakSQLenv/lib/python3.12/site-packages (from torch>=1.11.0->sentence-transformers) (0.6.3)\n",
      "Requirement already satisfied: nvidia-nccl-cu12==2.26.2 in ./SpeakSQLenv/lib/python3.12/site-packages (from torch>=1.11.0->sentence-transformers) (2.26.2)\n",
      "Requirement already satisfied: nvidia-nvtx-cu12==12.6.77 in ./SpeakSQLenv/lib/python3.12/site-packages (from torch>=1.11.0->sentence-transformers) (12.6.77)\n",
      "Requirement already satisfied: nvidia-nvjitlink-cu12==12.6.85 in ./SpeakSQLenv/lib/python3.12/site-packages (from torch>=1.11.0->sentence-transformers) (12.6.85)\n",
      "Requirement already satisfied: nvidia-cufile-cu12==1.11.1.6 in ./SpeakSQLenv/lib/python3.12/site-packages (from torch>=1.11.0->sentence-transformers) (1.11.1.6)\n",
      "Requirement already satisfied: triton==3.3.1 in ./SpeakSQLenv/lib/python3.12/site-packages (from torch>=1.11.0->sentence-transformers) (3.3.1)\n",
      "Requirement already satisfied: regex!=2019.12.17 in ./SpeakSQLenv/lib/python3.12/site-packages (from transformers<5.0.0,>=4.41.0->sentence-transformers) (2024.11.6)\n",
      "Requirement already satisfied: safetensors>=0.4.3 in ./SpeakSQLenv/lib/python3.12/site-packages (from transformers<5.0.0,>=4.41.0->sentence-transformers) (0.5.3)\n",
      "Requirement already satisfied: httplib2<1.0.0,>=0.19.0 in ./SpeakSQLenv/lib/python3.12/site-packages (from google-api-python-client->google-generativeai) (0.22.0)\n",
      "Requirement already satisfied: google-auth-httplib2<1.0.0,>=0.2.0 in ./SpeakSQLenv/lib/python3.12/site-packages (from google-api-python-client->google-generativeai) (0.2.0)\n",
      "Requirement already satisfied: uritemplate<5,>=3.0.1 in ./SpeakSQLenv/lib/python3.12/site-packages (from google-api-python-client->google-generativeai) (4.2.0)\n",
      "Requirement already satisfied: joblib>=1.2.0 in ./SpeakSQLenv/lib/python3.12/site-packages (from scikit-learn->sentence-transformers) (1.5.1)\n",
      "Requirement already satisfied: threadpoolctl>=3.1.0 in ./SpeakSQLenv/lib/python3.12/site-packages (from scikit-learn->sentence-transformers) (3.6.0)\n",
      "Requirement already satisfied: grpcio<2.0.0,>=1.33.2 in ./SpeakSQLenv/lib/python3.12/site-packages (from google-api-core[grpc]!=2.0.*,!=2.1.*,!=2.10.*,!=2.2.*,!=2.3.*,!=2.4.*,!=2.5.*,!=2.6.*,!=2.7.*,!=2.8.*,!=2.9.*,<3.0.0dev,>=1.34.1->google-ai-generativelanguage==0.6.15->google-generativeai) (1.73.0)\n",
      "Requirement already satisfied: grpcio-status<2.0.0,>=1.33.2 in ./SpeakSQLenv/lib/python3.12/site-packages (from google-api-core[grpc]!=2.0.*,!=2.1.*,!=2.10.*,!=2.2.*,!=2.3.*,!=2.4.*,!=2.5.*,!=2.6.*,!=2.7.*,!=2.8.*,!=2.9.*,<3.0.0dev,>=1.34.1->google-ai-generativelanguage==0.6.15->google-generativeai) (1.71.0)\n",
      "Requirement already satisfied: pyparsing!=3.0.0,!=3.0.1,!=3.0.2,!=3.0.3,<4,>=2.4.2 in ./SpeakSQLenv/lib/python3.12/site-packages (from httplib2<1.0.0,>=0.19.0->google-api-python-client->google-generativeai) (3.2.3)\n",
      "Requirement already satisfied: jsonpointer>=1.9 in ./SpeakSQLenv/lib/python3.12/site-packages (from jsonpatch<2.0,>=1.33->langchain-core<0.4.0,>=0.3.37->langchain-google-genai) (3.0.0)\n",
      "Requirement already satisfied: pyasn1<0.7.0,>=0.6.1 in ./SpeakSQLenv/lib/python3.12/site-packages (from pyasn1-modules>=0.2.1->google-auth>=2.15.0->google-generativeai) (0.6.1)\n",
      "Requirement already satisfied: mpmath<1.4,>=1.1.0 in ./SpeakSQLenv/lib/python3.12/site-packages (from sympy>=1.13.3->torch>=1.11.0->sentence-transformers) (1.3.0)\n",
      "Requirement already satisfied: mypy-extensions>=0.3.0 in ./SpeakSQLenv/lib/python3.12/site-packages (from typing-inspect<1,>=0.4.0->dataclasses-json<0.7,>=0.5.7->langchain-community) (1.1.0)\n",
      "Requirement already satisfied: sniffio>=1.1 in ./SpeakSQLenv/lib/python3.12/site-packages (from anyio->httpx<1,>=0.23.0->langsmith) (1.3.1)\n",
      "Requirement already satisfied: MarkupSafe>=2.0 in ./SpeakSQLenv/lib/python3.12/site-packages (from jinja2->torch>=1.11.0->sentence-transformers) (3.0.2)\n",
      "Note: you may need to restart the kernel to use updated packages.\n"
     ]
    }
   ],
   "source": [
    "%pip install -U google-generativeai langchain-google-genai langchain-huggingface langchain langchain-community langsmith pymysql sentence-transformers"
   ]
  },
  {
   "cell_type": "code",
   "execution_count": 2,
   "id": "64683556-a8f7-436b-bd34-eadba3e12921",
   "metadata": {},
   "outputs": [
    {
     "data": {
      "text/plain": [
       "True"
      ]
     },
     "execution_count": 2,
     "metadata": {},
     "output_type": "execute_result"
    }
   ],
   "source": [
    "# --- Load Environment Variables ---\n",
    "# Ensure your .env file exists in the same directory as this script\n",
    "\n",
    "import os\n",
    "from dotenv import load_dotenv\n",
    "import decimal # New import for Decimal type handling\n",
    "\n",
    "load_dotenv()"
   ]
  },
  {
   "cell_type": "code",
   "execution_count": 3,
   "id": "e1727d95-93cb-4674-9b63-995576729711",
   "metadata": {},
   "outputs": [],
   "source": [
    "GOOGLE_API_KEY = os.getenv('GOOGLE_API_KEY')\n",
    "db_user =  os.getenv(\"db_user\")\n",
    "db_password =  os.getenv(\"db_password\")\n",
    "db_host =  os.getenv(\"db_host\")\n",
    "db_port =  os.getenv(\"db_port\")\n",
    "db_name =  os.getenv(\"db_name\")"
   ]
  },
  {
   "cell_type": "code",
   "execution_count": 4,
   "id": "1d592197-7c9e-4597-bc8a-760a4c553a25",
   "metadata": {},
   "outputs": [],
   "source": [
    "import google.generativeai as genai\n",
    "\n",
    "# --- Configure Gemini API ---\n",
    "# This line configures the Gemini API with your API key.\n",
    "# It's crucial for authenticating your requests to Google's generative models.\n",
    "genai.configure(api_key=GOOGLE_API_KEY)"
   ]
  },
  {
   "cell_type": "code",
   "execution_count": 5,
   "id": "3eceb838-5c6b-4a4f-aac4-98f8166c9489",
   "metadata": {
    "scrolled": true
   },
   "outputs": [
    {
     "name": "stdout",
     "output_type": "stream",
     "text": [
      "--- Connecting to MySQL Database and Fetching Schema ---\n",
      "Database Schema:\n",
      " \n",
      "CREATE TABLE discounts (\n",
      "\tdiscount_id INTEGER NOT NULL COMMENT 'Unique ID for each discount entry' AUTO_INCREMENT, \n",
      "\tt_shirt_id INTEGER NOT NULL COMMENT 'Foreign key referencing the t-shirt being discounted', \n",
      "\tpct_discount DECIMAL(5, 2) COMMENT 'Discount percentage (0-100)', \n",
      "\tPRIMARY KEY (discount_id), \n",
      "\tCONSTRAINT discounts_ibfk_1 FOREIGN KEY(t_shirt_id) REFERENCES t_shirts (t_shirt_id), \n",
      "\tCONSTRAINT discounts_chk_1 CHECK ((`pct_discount` between 0 and 100))\n",
      ")ENGINE=InnoDB DEFAULT CHARSET=utf8mb4 COLLATE utf8mb4_0900_ai_ci COMMENT='Table storing discount information for t-shirts'\n",
      "\n",
      "/*\n",
      "3 rows from discounts table:\n",
      "discount_id\tt_shirt_id\tpct_discount\n",
      "1\t1\t10.00\n",
      "2\t2\t15.00\n",
      "3\t3\t20.00\n",
      "*/\n",
      "\n",
      "\n",
      "CREATE TABLE t_shirts (\n",
      "\tt_shirt_id INTEGER NOT NULL COMMENT 'Unique ID for each t-shirt entry' AUTO_INCREMENT, \n",
      "\tbrand ENUM('Van Huesen','Levi','Nike','Adidas') NOT NULL COMMENT 'Brand of the t-shirt', \n",
      "\tcolor ENUM('Red','Blue','Black','White') NOT NULL COMMENT 'Color of the t-shirt', \n",
      "\tsize ENUM('XS','S','M','L','XL') NOT NULL COMMENT 'Size of the t-shirt', \n",
      "\tprice INTEGER COMMENT 'Price in arbitrary units, between 10 and 50', \n",
      "\tstock_quantity INTEGER NOT NULL COMMENT 'Number of items available in stock', \n",
      "\tPRIMARY KEY (t_shirt_id), \n",
      "\tCONSTRAINT t_shirts_chk_1 CHECK ((`price` between 10 and 50))\n",
      ")ENGINE=InnoDB DEFAULT CHARSET=utf8mb4 COLLATE utf8mb4_0900_ai_ci COMMENT='Table storing t-shirt product information'\n",
      "\n",
      "/*\n",
      "3 rows from t_shirts table:\n",
      "t_shirt_id\tbrand\tcolor\tsize\tprice\tstock_quantity\n",
      "1\tAdidas\tBlack\tXS\t12\t88\n",
      "2\tVan Huesen\tRed\tXL\t37\t49\n",
      "3\tVan Huesen\tBlue\tS\t21\t73\n",
      "*/\n",
      "---------------------------------------------------\n",
      "\n"
     ]
    }
   ],
   "source": [
    "# --- Initialize SQLDatabase ---\n",
    "# This connects to your MySQL database and extracts its schema information.\n",
    "# The 'sample_rows_in_table_info=3' helps Gemini understand the data types and typical values.\n",
    "\n",
    "from langchain.utilities import SQLDatabase\n",
    "\n",
    "print(\"--- Connecting to MySQL Database and Fetching Schema ---\")\n",
    "\n",
    "try:\n",
    "    db = SQLDatabase.from_uri(\n",
    "        f\"mysql+pymysql://{db_user}:{db_password}@{db_host}:{db_port}/{db_name}\",\n",
    "        sample_rows_in_table_info=3\n",
    "    )\n",
    "    database_schema = db.table_info\n",
    "    print(\"Database Schema:\\n\", database_schema)\n",
    "    print(\"---------------------------------------------------\\n\")\n",
    "except Exception as e:\n",
    "    print(f\"Error connecting to database or fetching schema: {e}\")\n",
    "    print(\"Please ensure MySQL is running, your .env variables are correct, and pymysql is installed.\")\n",
    "    exit() # Exit if database connection fails, as further steps depend on it.\n"
   ]
  },
  {
   "cell_type": "code",
   "execution_count": 6,
   "id": "ba4a2975-5501-416f-9514-6f7d142bd6b0",
   "metadata": {
    "scrolled": true
   },
   "outputs": [
    {
     "name": "stdout",
     "output_type": "stream",
     "text": [
      "Available models supporting 'generateContent':\n",
      "  - models/gemini-1.0-pro-vision-latest\n",
      "  - models/gemini-pro-vision\n",
      "  - models/gemini-1.5-pro-latest\n",
      "  - models/gemini-1.5-pro-002\n",
      "  - models/gemini-1.5-pro\n",
      "  - models/gemini-1.5-flash-latest\n",
      "  - models/gemini-1.5-flash\n",
      "  - models/gemini-1.5-flash-002\n",
      "  - models/gemini-1.5-flash-8b\n",
      "  - models/gemini-1.5-flash-8b-001\n",
      "  - models/gemini-1.5-flash-8b-latest\n",
      "  - models/gemini-2.5-pro-preview-03-25\n",
      "  - models/gemini-2.5-flash-preview-04-17\n",
      "  - models/gemini-2.5-flash-preview-05-20\n",
      "  - models/gemini-2.5-flash\n",
      "  - models/gemini-2.5-flash-preview-04-17-thinking\n",
      "  - models/gemini-2.5-flash-lite-preview-06-17\n",
      "  - models/gemini-2.5-pro-preview-05-06\n",
      "  - models/gemini-2.5-pro-preview-06-05\n",
      "  - models/gemini-2.5-pro\n",
      "  - models/gemini-2.0-flash-exp\n",
      "  - models/gemini-2.0-flash\n",
      "  - models/gemini-2.0-flash-001\n",
      "  - models/gemini-2.0-flash-exp-image-generation\n",
      "  - models/gemini-2.0-flash-lite-001\n",
      "  - models/gemini-2.0-flash-lite\n",
      "  - models/gemini-2.0-flash-preview-image-generation\n",
      "  - models/gemini-2.0-flash-lite-preview-02-05\n",
      "  - models/gemini-2.0-flash-lite-preview\n",
      "  - models/gemini-2.0-pro-exp\n",
      "  - models/gemini-2.0-pro-exp-02-05\n",
      "  - models/gemini-exp-1206\n",
      "  - models/gemini-2.0-flash-thinking-exp-01-21\n",
      "  - models/gemini-2.0-flash-thinking-exp\n",
      "  - models/gemini-2.0-flash-thinking-exp-1219\n",
      "  - models/gemini-2.5-flash-preview-tts\n",
      "  - models/gemini-2.5-pro-preview-tts\n",
      "  - models/learnlm-2.0-flash-experimental\n",
      "  - models/gemma-3-1b-it\n",
      "  - models/gemma-3-4b-it\n",
      "  - models/gemma-3-12b-it\n",
      "  - models/gemma-3-27b-it\n",
      "  - models/gemma-3n-e4b-it\n",
      "  - models/gemma-3n-e2b-it\n"
     ]
    }
   ],
   "source": [
    "# --- List Available Gemini Models ---\n",
    "# It's good practice to list models to confirm which ones support 'generateContent'\n",
    "# in your region and for your API key.\n",
    "print(\"Available models supporting 'generateContent':\")\n",
    "available_models = []\n",
    "for m in genai.list_models():\n",
    "    if 'generateContent' in m.supported_generation_methods:\n",
    "        available_models.append(m.name)\n",
    "        print(f\"  - {m.name}\")\n",
    "\n",
    "if not available_models:\n",
    "    print(\"\\nNo models found that support 'generateContent'. Please check your API key and region availability.\")\n",
    "    exit()"
   ]
  },
  {
   "cell_type": "code",
   "execution_count": 7,
   "id": "6a4daecd-0b09-4352-8d6d-44dcc57725a6",
   "metadata": {},
   "outputs": [],
   "source": [
    "# --- Initialize Gemini Model ---\n",
    "# We'll use 'gemini-1.5-flash' as it's often a good balance of speed and capability for free tier.\n",
    "# You can change this to another model name from the 'Available models' list if needed.\n",
    "model_name_to_use = 'gemini-1.5-flash' "
   ]
  },
  {
   "cell_type": "code",
   "execution_count": 8,
   "id": "e39cc6ca-3ffb-45a3-92e8-7a4e1abebbf7",
   "metadata": {},
   "outputs": [
    {
     "name": "stdout",
     "output_type": "stream",
     "text": [
      "Model initialised 😄\n",
      "Good to go !!!\n"
     ]
    }
   ],
   "source": [
    "# Verify the chosen model is in the available list\n",
    "if f\"models/{model_name_to_use}\" not in available_models and model_name_to_use not in available_models:\n",
    "    print(f\"\\nWarning: The chosen model '{model_name_to_use}' is not in the list of available models.\")\n",
    "    print(\"Attempting to use it anyway, but it might result in an error.\")\n",
    "    print(\"Consider changing 'model_name_to_use' to one from the list above.\")\n",
    "else:\n",
    "    model = genai.GenerativeModel(model_name_to_use)\n",
    "    print(\"Model initialised 😄\\nGood to go !!!\")"
   ]
  },
  {
   "cell_type": "code",
   "execution_count": 51,
   "id": "671e1679-3b2c-4f41-a11f-da05afca233a",
   "metadata": {},
   "outputs": [
    {
     "name": "stdout",
     "output_type": "stream",
     "text": [
      "\n",
      "--- Asking Gemini (General Question): 'Who is the Prime minister of India?' ---\n",
      "Error during general text generation: 429 You exceeded your current quota, please check your plan and billing details. For more information on this error, head to: https://ai.google.dev/gemini-api/docs/rate-limits. [violations {\n",
      "  quota_metric: \"generativelanguage.googleapis.com/generate_content_free_tier_requests\"\n",
      "  quota_id: \"GenerateRequestsPerDayPerProjectPerModel-FreeTier\"\n",
      "  quota_dimensions {\n",
      "    key: \"model\"\n",
      "    value: \"gemini-1.5-flash\"\n",
      "  }\n",
      "  quota_dimensions {\n",
      "    key: \"location\"\n",
      "    value: \"global\"\n",
      "  }\n",
      "  quota_value: 50\n",
      "}\n",
      ", links {\n",
      "  description: \"Learn more about Gemini API quotas\"\n",
      "  url: \"https://ai.google.dev/gemini-api/docs/rate-limits\"\n",
      "}\n",
      ", retry_delay {\n",
      "  seconds: 25\n",
      "}\n",
      "]\n",
      "---------------------------------------------------\n",
      "\n"
     ]
    }
   ],
   "source": [
    "# --- Example 1: Basic Text Generation with Gemini ---\n",
    "# This shows how Gemini responds to a general question.\n",
    "prompt_general = \"Who is the Prime minister of India?\"\n",
    "print(f\"\\n--- Asking Gemini (General Question): '{prompt_general}' ---\")\n",
    "try:\n",
    "    response_general = model.generate_content(prompt_general)\n",
    "    print(response_general.text.strip())\n",
    "except Exception as e:\n",
    "    print(f\"Error during general text generation: {e}\")\n",
    "print(\"---------------------------------------------------\\n\")"
   ]
  },
  {
   "cell_type": "code",
   "execution_count": 19,
   "id": "f06043aa-5f27-4e69-a78d-5a7534e35b3f",
   "metadata": {},
   "outputs": [],
   "source": [
    "import pymysql\n",
    "\n",
    "# ================================================================\n",
    "# --- NEW FUNCTION FOR SQL GENERATION AND EXECUTION ---\n",
    "# ================================================================\n",
    "\n",
    "def ask_sql_query(user_question: str, gemini_model, sql_database_obj):\n",
    "    \"\"\"\n",
    "    Generates a MySQL query from a natural language question using Gemini,\n",
    "    executes it against the provided database, and returns the results.\n",
    "\n",
    "    Args:\n",
    "        user_question (str): The natural language question from the user.\n",
    "        gemini_model: The initialized Gemini GenerativeModel instance.\n",
    "        sql_database_obj: The initialized langchain.utilities.SQLDatabase object.\n",
    "\n",
    "    Returns:\n",
    "        list: A list of tuples containing the query results.\n",
    "              Returns 0 if it's an aggregate query yielding no results (SUM/COUNT=NULL or empty).\n",
    "              Returns None if an error occurs.\n",
    "    \"\"\"\n",
    "    print(f\"\\n--- Processing user question: '{user_question}' ---\")\n",
    "\n",
    "    # Construct the prompt for Gemini\n",
    "    sql_generation_prompt = f\"\"\"\n",
    "Given the following MySQL database schema:\n",
    "\n",
    "{sql_database_obj.table_info}\n",
    "\n",
    "Generate a valid MySQL query for the following question:\n",
    "\"{user_question}\"\n",
    "\n",
    "When generating the query, ensure that:\n",
    "1. Column names from the schema are used exactly as provided.\n",
    "2. String comparisons (like 'Nike', 'extra small', 'white') should match the case and format\n",
    "   of data as it is actually stored in the database. If exact matches are needed,\n",
    "   use '='. If a case-insensitive match might be better, consider functions like LOWER().\n",
    "3. For questions asking \"how many\" or \"total\", generate a query that returns a single aggregate value (e.g., SUM, COUNT).\n",
    "   If no matching rows are found, the query should logically yield 0 or NULL for that aggregate.\n",
    "\n",
    "Provide only the SQL query, without any additional explanation or text.\n",
    "\"\"\"\n",
    "\n",
    "    # print(\"--- Prompt sent to Gemini ---\")\n",
    "    # print(sql_generation_prompt)\n",
    "    # print(\"---------------------------\\n\")\n",
    "\n",
    "    generated_sql = None\n",
    "    try:\n",
    "        response_sql = gemini_model.generate_content(sql_generation_prompt)\n",
    "        generated_sql = response_sql.text.strip()\n",
    "\n",
    "        # Remove Markdown code block delimiters\n",
    "        if generated_sql.startswith(\"```sql\"):\n",
    "            generated_sql = generated_sql[len(\"```sql\"):].strip()\n",
    "        if generated_sql.endswith(\"```\"):\n",
    "            generated_sql = generated_sql[:-len(\"```\")].strip()\n",
    "            \n",
    "        print(\"--- Generated SQL Query (cleaned) ---\")\n",
    "        print(generated_sql)\n",
    "        print(\"-----------------------------------\\n\")\n",
    "\n",
    "    except Exception as e:\n",
    "        print(f\"Error during SQL generation by Gemini: {e}\")\n",
    "        return None # Indicate failure\n",
    "\n",
    "    # Execute the generated SQL query\n",
    "    print(\"--- Executing SQL Query and Fetching Results ---\")\n",
    "    try:\n",
    "        conn = pymysql.connect(\n",
    "            host=db_host,\n",
    "            user=db_user,\n",
    "            password=db_password,\n",
    "            database=db_name,\n",
    "            port=int(db_port)\n",
    "        )\n",
    "        cursor = conn.cursor()\n",
    "        cursor.execute(generated_sql)\n",
    "        results = cursor.fetchall()\n",
    "        \n",
    "        if cursor.description:\n",
    "            columns = [i[0] for i in cursor.description]\n",
    "            print(\"Columns:\", columns)\n",
    "        \n",
    "        # --- ENHANCED HANDLING FOR EMPTY/NULL/SINGLE AGGREGATE RESULTS ---\n",
    "        if not results or (len(results) == 1 and results[0][0] is None):\n",
    "            print(\"Query Results: 0 (or no matching data)\")\n",
    "            return 0 # Return 0 for aggregate queries with no results\n",
    "        elif len(results) == 1 and len(results[0]) == 1 and isinstance(results[0][0], (int, float, decimal.Decimal)):\n",
    "            # If it's a single aggregate value (like COUNT(*), SUM), return the scalar directly\n",
    "            print(f\"Query Result: {results[0][0]}\")\n",
    "            return results[0][0]\n",
    "        else:\n",
    "            print(\"Query Results:\")\n",
    "            for row in results:\n",
    "                print(row)\n",
    "            return results # Return the actual results (list of tuples for multi-row/col)\n",
    "\n",
    "    except pymysql.Error as db_error:\n",
    "        print(f\"Error executing SQL query: {db_error}\")\n",
    "        return None # Indicate failure\n",
    "\n",
    "    finally:\n",
    "        if 'conn' in locals() and conn.open: # Ensure connection is closed even on error\n",
    "            conn.close()"
   ]
  },
  {
   "cell_type": "code",
   "execution_count": 21,
   "id": "d1ee2abf-840d-41d0-aa40-aef17fb6b155",
   "metadata": {},
   "outputs": [
    {
     "name": "stdout",
     "output_type": "stream",
     "text": [
      "\n",
      "--- Processing user question: 'How many tshirts do we have left for Nike in extra small size and red colour?' ---\n",
      "Error during SQL generation by Gemini: 429 You exceeded your current quota, please check your plan and billing details. For more information on this error, head to: https://ai.google.dev/gemini-api/docs/rate-limits. [violations {\n",
      "  quota_metric: \"generativelanguage.googleapis.com/generate_content_free_tier_requests\"\n",
      "  quota_id: \"GenerateRequestsPerDayPerProjectPerModel-FreeTier\"\n",
      "  quota_dimensions {\n",
      "    key: \"model\"\n",
      "    value: \"gemini-1.5-flash\"\n",
      "  }\n",
      "  quota_dimensions {\n",
      "    key: \"location\"\n",
      "    value: \"global\"\n",
      "  }\n",
      "  quota_value: 50\n",
      "}\n",
      ", links {\n",
      "  description: \"Learn more about Gemini API quotas\"\n",
      "  url: \"https://ai.google.dev/gemini-api/docs/rate-limits\"\n",
      "}\n",
      ", retry_delay {\n",
      "  seconds: 55\n",
      "}\n",
      "]\n",
      "\n",
      "Final Answer for 'How many tshirts do we have left for Nike in extra small size and red colour?': None\n",
      "\n",
      "---------------------------------------------------\n",
      "\n"
     ]
    }
   ],
   "source": [
    "# This is the core logic for SpeakSQL project.\n",
    "# Test Query 1: Your original example\n",
    "q1 = \"How many tshirts do we have left for Nike in extra small size and red colour?\"\n",
    "result1 = ask_sql_query(q1, model, db)\n",
    "print(f\"\\nFinal Answer for '{q1}': {result1}\")\n",
    "\n",
    "print(\"\\n---------------------------------------------------\\n\")"
   ]
  },
  {
   "cell_type": "code",
   "execution_count": 23,
   "id": "53957fe5-563b-457d-aee0-314864ca10ac",
   "metadata": {},
   "outputs": [
    {
     "name": "stdout",
     "output_type": "stream",
     "text": [
      "\n",
      "--- Processing user question: 'If we have to sell all the Levi's tshirt today. How much revenue will our store generate?' ---\n",
      "Error during SQL generation by Gemini: 429 You exceeded your current quota, please check your plan and billing details. For more information on this error, head to: https://ai.google.dev/gemini-api/docs/rate-limits. [violations {\n",
      "  quota_metric: \"generativelanguage.googleapis.com/generate_content_free_tier_requests\"\n",
      "  quota_id: \"GenerateRequestsPerDayPerProjectPerModel-FreeTier\"\n",
      "  quota_dimensions {\n",
      "    key: \"model\"\n",
      "    value: \"gemini-1.5-flash\"\n",
      "  }\n",
      "  quota_dimensions {\n",
      "    key: \"location\"\n",
      "    value: \"global\"\n",
      "  }\n",
      "  quota_value: 50\n",
      "}\n",
      ", links {\n",
      "  description: \"Learn more about Gemini API quotas\"\n",
      "  url: \"https://ai.google.dev/gemini-api/docs/rate-limits\"\n",
      "}\n",
      ", retry_delay {\n",
      "  seconds: 42\n",
      "}\n",
      "]\n",
      "\n",
      "Final Answer for 'If we have to sell all the Levi's tshirt today. How much revenue will our store generate?': None\n"
     ]
    }
   ],
   "source": [
    "q2 = \"If we have to sell all the Levi's tshirt today. How much revenue will our store generate?\"\n",
    "result2 = ask_sql_query(q2, model, db)\n",
    "print(f\"\\nFinal Answer for '{q2}': {result2}\")"
   ]
  },
  {
   "cell_type": "code",
   "execution_count": 25,
   "id": "b327e6ef-2f39-496b-aad4-690c1dd9a750",
   "metadata": {},
   "outputs": [
    {
     "name": "stdout",
     "output_type": "stream",
     "text": [
      "\n",
      "--- Processing user question: 'Show me the total number of products in stock.' ---\n",
      "Error during SQL generation by Gemini: 429 You exceeded your current quota, please check your plan and billing details. For more information on this error, head to: https://ai.google.dev/gemini-api/docs/rate-limits. [violations {\n",
      "  quota_metric: \"generativelanguage.googleapis.com/generate_content_free_tier_requests\"\n",
      "  quota_id: \"GenerateRequestsPerDayPerProjectPerModel-FreeTier\"\n",
      "  quota_dimensions {\n",
      "    key: \"model\"\n",
      "    value: \"gemini-1.5-flash\"\n",
      "  }\n",
      "  quota_dimensions {\n",
      "    key: \"location\"\n",
      "    value: \"global\"\n",
      "  }\n",
      "  quota_value: 50\n",
      "}\n",
      ", links {\n",
      "  description: \"Learn more about Gemini API quotas\"\n",
      "  url: \"https://ai.google.dev/gemini-api/docs/rate-limits\"\n",
      "}\n",
      ", retry_delay {\n",
      "  seconds: 41\n",
      "}\n",
      "]\n",
      "\n",
      "Final Answer for 'Show me the total number of products in stock.': None\n"
     ]
    }
   ],
   "source": [
    "q3 = \"Show me the total number of products in stock.\"\n",
    "result3 = ask_sql_query(q3, model, db)\n",
    "print(f\"\\nFinal Answer for '{q3}': {result3}\")"
   ]
  },
  {
   "cell_type": "code",
   "execution_count": 27,
   "id": "f0ff1196-b4e4-4016-a9f6-c2d9a10ee0d9",
   "metadata": {},
   "outputs": [
    {
     "name": "stdout",
     "output_type": "stream",
     "text": [
      "\n",
      "--- Processing user question: 'How much is the price of inventory for all small sized tshirts?' ---\n",
      "Error during SQL generation by Gemini: 429 You exceeded your current quota, please check your plan and billing details. For more information on this error, head to: https://ai.google.dev/gemini-api/docs/rate-limits. [violations {\n",
      "  quota_metric: \"generativelanguage.googleapis.com/generate_content_free_tier_requests\"\n",
      "  quota_id: \"GenerateRequestsPerDayPerProjectPerModel-FreeTier\"\n",
      "  quota_dimensions {\n",
      "    key: \"model\"\n",
      "    value: \"gemini-1.5-flash\"\n",
      "  }\n",
      "  quota_dimensions {\n",
      "    key: \"location\"\n",
      "    value: \"global\"\n",
      "  }\n",
      "  quota_value: 50\n",
      "}\n",
      ", links {\n",
      "  description: \"Learn more about Gemini API quotas\"\n",
      "  url: \"https://ai.google.dev/gemini-api/docs/rate-limits\"\n",
      "}\n",
      ", retry_delay {\n",
      "  seconds: 40\n",
      "}\n",
      "]\n",
      "\n",
      "Final Answer for 'How much is the price of inventory for all small sized tshirts?': None\n"
     ]
    }
   ],
   "source": [
    "q4 = \"How much is the price of inventory for all small sized tshirts?\"\n",
    "result4 = ask_sql_query(q4, model, db)\n",
    "print(f\"\\nFinal Answer for '{q4}': {result4}\")"
   ]
  },
  {
   "cell_type": "code",
   "execution_count": 29,
   "id": "77ab6422-7cd3-4c38-867b-df48aedcff84",
   "metadata": {},
   "outputs": [
    {
     "name": "stdout",
     "output_type": "stream",
     "text": [
      "\n",
      "--- Processing user question: 'If we have to sell all the Levi's tshirt with discounts applied. How much revenue will our store generate? (post discounts)' ---\n",
      "Error during SQL generation by Gemini: 429 You exceeded your current quota, please check your plan and billing details. For more information on this error, head to: https://ai.google.dev/gemini-api/docs/rate-limits. [violations {\n",
      "  quota_metric: \"generativelanguage.googleapis.com/generate_content_free_tier_requests\"\n",
      "  quota_id: \"GenerateRequestsPerDayPerProjectPerModel-FreeTier\"\n",
      "  quota_dimensions {\n",
      "    key: \"model\"\n",
      "    value: \"gemini-1.5-flash\"\n",
      "  }\n",
      "  quota_dimensions {\n",
      "    key: \"location\"\n",
      "    value: \"global\"\n",
      "  }\n",
      "  quota_value: 50\n",
      "}\n",
      ", links {\n",
      "  description: \"Learn more about Gemini API quotas\"\n",
      "  url: \"https://ai.google.dev/gemini-api/docs/rate-limits\"\n",
      "}\n",
      ", retry_delay {\n",
      "  seconds: 39\n",
      "}\n",
      "]\n",
      "\n",
      "Final Answer for 'If we have to sell all the Levi's tshirt with discounts applied. How much revenue will our store generate? (post discounts)': None\n"
     ]
    }
   ],
   "source": [
    "q5 = \"If we have to sell all the Levi's tshirt with discounts applied. How much revenue will our store generate? (post discounts)\"\n",
    "# q5 = \"\"\"SELECT SUM(t.stock_quantity * IFNULL(t.price * (1 - d.pct_discount / 100), t.price)) as Total_Revenue\n",
    "#         FROM t_shirts AS t\n",
    "#         LEFT JOIN discounts AS d\n",
    "#           ON t.t_shirt_id = d.t_shirt_id\n",
    "#         WHERE t.brand = 'Levi';\"\"\"\n",
    "\n",
    "# OR \n",
    "\n",
    "# q5 = \"\"\"SELECT SUM(a.Total_Amount * ((100- COALESCE(discounts.pct_discount, 0))/100)) as Total_Revenue\n",
    "#         FROM (SELECT SUM(price*stock_quantity) as Total_Amount, t_shirt_id from t_shirts\n",
    "#             \tWHERE brand = 'Levi'\n",
    "#             \tGROUP BY t_shirt_id) a\n",
    "#         LEFT JOIN discounts \n",
    "#         ON a.t_shirt_id = discounts.t_shirt_id;\"\"\"\n",
    "\n",
    "# OR\n",
    "\n",
    "# WITH TotalAmounts AS (\n",
    "#     SELECT \n",
    "#         t_shirt_id,\n",
    "#         SUM(price * stock_quantity) AS Total_Amount\n",
    "#     FROM t_shirts\n",
    "#     WHERE brand = 'Levi'\n",
    "#     GROUP BY t_shirt_id\n",
    "# )\n",
    "\n",
    "# SELECT \n",
    "#     SUM(TotalAmounts.Total_Amount * ((100 - COALESCE(discounts.pct_discount, 0)) / 100)) AS Total_Revenue\n",
    "# FROM TotalAmounts\n",
    "# LEFT JOIN discounts \n",
    "# ON TotalAmounts.t_shirt_id = discounts.t_shirt_id;\n",
    "\n",
    "\n",
    "result5 = ask_sql_query(q5, model, db)\n",
    "print(f\"\\nFinal Answer for '{q5}': {result5}\")"
   ]
  },
  {
   "cell_type": "code",
   "execution_count": 31,
   "id": "73d5e09a-931a-4d13-9797-708c0be2fc38",
   "metadata": {},
   "outputs": [
    {
     "name": "stdout",
     "output_type": "stream",
     "text": [
      "\n",
      "--- Processing user question: 'How many White coloured Levi's tshirts do we have in each size?' ---\n",
      "Error during SQL generation by Gemini: 429 You exceeded your current quota, please check your plan and billing details. For more information on this error, head to: https://ai.google.dev/gemini-api/docs/rate-limits. [violations {\n",
      "  quota_metric: \"generativelanguage.googleapis.com/generate_content_free_tier_requests\"\n",
      "  quota_id: \"GenerateRequestsPerDayPerProjectPerModel-FreeTier\"\n",
      "  quota_dimensions {\n",
      "    key: \"model\"\n",
      "    value: \"gemini-1.5-flash\"\n",
      "  }\n",
      "  quota_dimensions {\n",
      "    key: \"location\"\n",
      "    value: \"global\"\n",
      "  }\n",
      "  quota_value: 50\n",
      "}\n",
      ", links {\n",
      "  description: \"Learn more about Gemini API quotas\"\n",
      "  url: \"https://ai.google.dev/gemini-api/docs/rate-limits\"\n",
      "}\n",
      ", retry_delay {\n",
      "  seconds: 38\n",
      "}\n",
      "]\n",
      "\n",
      "Final Answer for 'How many White coloured Levi's tshirts do we have in each size?': None\n"
     ]
    }
   ],
   "source": [
    "q6 = \"How many White coloured Levi's tshirts do we have in each size?\"\n",
    "result6 = ask_sql_query(q6, model, db)\n",
    "print(f\"\\nFinal Answer for '{q6}': {result6}\")"
   ]
  },
  {
   "cell_type": "markdown",
   "id": "bf96c1bf-5b2e-4e29-b7d6-121b9bd4d4bf",
   "metadata": {},
   "source": [
    "## Few Shot Learning"
   ]
  },
  {
   "cell_type": "code",
   "execution_count": 33,
   "id": "55b48859-e635-46b3-91dc-d408745f3403",
   "metadata": {
    "editable": true,
    "slideshow": {
     "slide_type": ""
    },
    "tags": []
   },
   "outputs": [],
   "source": [
    "# few_shots = [\n",
    "#     {\n",
    "#         \"Question\":\"How many tshirts do we have left for Nike in extra small size and red colour?\",\n",
    "#         \"SQLQuery\":\"\"\"SELECT SUM(stock_quantity)\n",
    "#                       FROM t_shirts\n",
    "#                       WHERE brand = 'Nike' AND size = 'XS' AND color = 'Red';\"\"\",\n",
    "#         \"SQLResult\":\"Result of the SQL Query\",\n",
    "#         \"Answer\":\"83\"\n",
    "#     },\n",
    "#     {\n",
    "#         \"Question\":\"How much is the price of inventory for all small sized tshirts?\",\n",
    "#         \"SQLQuery\":\"\"\"SELECT SUM(price * stock_quantity)\n",
    "#                       FROM t_shirts\n",
    "#                       WHERE size = 'S';\"\"\",\n",
    "#         \"SQLResult\":\"Result of the SQL Query\",\n",
    "#         \"Answer\":\"13924\"\n",
    "#     },\n",
    "#     {\n",
    "#         \"Question\":\"If we have to sell all the Levi's tshirt with discounts applied. How much revenue will our store generate? (post discounts)\",\n",
    "#         \"SQLQuery\":\"\"\"SELECT SUM(a.Total_Amount * ((100- COALESCE(discounts.pct_discount, 0))/100)) as Total_Revenue\n",
    "#                       FROM (SELECT SUM(price*stock_quantity) as Total_Amount, t_shirt_id from t_shirts\n",
    "#                           \tWHERE brand = 'Levi'\n",
    "#                           \tGROUP BY t_shirt_id) a\n",
    "#                       LEFT JOIN discounts \n",
    "#                       ON a.t_shirt_id = discounts.t_shirt_id\"\"\",\n",
    "#         \"SQLResult\":\"Result of the SQL Query\",\n",
    "#         \"Answer\":\"30972.450000\"\n",
    "#     },\n",
    "#     {\n",
    "#         \"Question\":\"If we have to sell all the Levi's tshirt today. How much revenue will our store generate?\",\n",
    "#         \"SQLQuery\":\"\"\"SELECT SUM(t_shirts.price * t_shirts.stock_quantity)\n",
    "#                       FROM t_shirts\n",
    "#                       WHERE t_shirts.brand = 'Levi'; \"\"\",\n",
    "#         \"SQLResult\":\"Result of the SQL Query\",\n",
    "#         \"Answer\":\"32170\"\n",
    "#     },\n",
    "#     {\n",
    "#         \"Question\":\"How many White coloured Levi's tshirts do we have in each size?\",\n",
    "#         \"SQLQuery\":\"\"\"SELECT SUM(stock_quantity)\n",
    "#                       FROM t_shirts\n",
    "#                       WHERE brand = 'Levi' AND color = 'White'; \"\"\",\n",
    "#         \"SQLResult\":\"Result of the SQL Query\",\n",
    "#         \"Answer\":\"369\"\n",
    "#     },\n",
    "#     {\n",
    "#         \"Question\": \"How many Adidas t-shirts are available in total?\",\n",
    "#         \"SQLQuery\": \"\"\"SELECT SUM(stock_quantity)\n",
    "#                        FROM t_shirts\n",
    "#                        WHERE brand = 'Adidas';\"\"\",\n",
    "#         \"SQLResult\": \"Result of the SQL Query\",\n",
    "#         \"Answer\": \"758\"\n",
    "#     },\n",
    "#     {\n",
    "#         \"Question\": \"What is the total inventory value of all black coloured t-shirts?\",\n",
    "#         \"SQLQuery\": \"\"\"SELECT SUM(price * stock_quantity)\n",
    "#                        FROM t_shirts\n",
    "#                        WHERE color = 'Black';\"\"\",\n",
    "#         \"SQLResult\": \"Result of the SQL Query\",\n",
    "#         \"Answer\": \"22275\"\n",
    "#     },\n",
    "#     {\n",
    "#         \"Question\": \"How many Van Huesen t-shirts do we have in medium size?\",\n",
    "#         \"SQLQuery\": \"\"\"SELECT SUM(stock_quantity)\n",
    "#                        FROM t_shirts\n",
    "#                        WHERE brand = 'Van Huesen' AND size = 'M';\"\"\",\n",
    "#         \"SQLResult\": \"Result of the SQL Query\",\n",
    "#         \"Answer\": \"89\"\n",
    "#     },\n",
    "#     {\n",
    "#         \"Question\": \"What is the total revenue if we sell all Adidas t-shirts with discounts applied?\",\n",
    "#         \"SQLQuery\": \"\"\"SELECT SUM(a.Total_Amount * ((100 - COALESCE(discounts.pct_discount, 0)) / 100)) AS Total_Revenue\n",
    "#                        FROM (SELECT SUM(price * stock_quantity) AS Total_Amount, t_shirt_id \n",
    "#                              FROM t_shirts \n",
    "#                              WHERE brand = 'Adidas'\n",
    "#                              GROUP BY t_shirt_id) a\n",
    "#                        LEFT JOIN discounts \n",
    "#                        ON a.t_shirt_id = discounts.t_shirt_id;\"\"\",\n",
    "#         \"SQLResult\": \"Result of the SQL Query\",\n",
    "#         \"Answer\": \"19887.250000\"\n",
    "#     }\n",
    "# ]"
   ]
  },
  {
   "cell_type": "code",
   "execution_count": 35,
   "id": "a738dbe1-fe14-485e-9ac0-08a13c735d5b",
   "metadata": {},
   "outputs": [
    {
     "name": "stdout",
     "output_type": "stream",
     "text": [
      "\n",
      "--- Loaded 9 few-shot examples from 'few_shots.json' ---\n"
     ]
    }
   ],
   "source": [
    "# ================================================================\n",
    "# --- Load Few-Shot Examples from JSON File ---\n",
    "# ================================================================\n",
    "\n",
    "import json\n",
    "\n",
    "few_shots_file_path = 'few_shots.json'\n",
    "\n",
    "try:\n",
    "    with open(few_shots_file_path, 'r') as f:\n",
    "        few_shot_examples = json.load(f)\n",
    "    print(f\"\\n--- Loaded {len(few_shot_examples)} few-shot examples from '{few_shots_file_path}' ---\")\n",
    "except FileNotFoundError:\n",
    "    print(f\"\\nError: '{few_shots_file_path}' not found. Please create the file with your few-shot examples.\")\n",
    "    few_shot_examples = [] # Initialize as empty to avoid errors\n",
    "except json.JSONDecodeError as e:\n",
    "    print(f\"\\nError decoding JSON from '{few_shots_file_path}': {e}\")\n",
    "    print(\"Please ensure your few_shots.json file is valid JSON.\")\n",
    "    few_shot_examples = []"
   ]
  },
  {
   "cell_type": "code",
   "execution_count": 37,
   "id": "68b67966-969e-40d0-90b7-79cfdcb202d3",
   "metadata": {
    "scrolled": true
   },
   "outputs": [
    {
     "name": "stdout",
     "output_type": "stream",
     "text": [
      "--- Initializing HuggingFace Embedding Model ---\n",
      "HuggingFace Embedding Model 'sentence-transformers/all-MiniLM-L6-v2' loaded successfully.\n"
     ]
    }
   ],
   "source": [
    "from langchain_huggingface import HuggingFaceEmbeddings\n",
    "import numpy as np\n",
    "\n",
    "print(\"--- Initializing HuggingFace Embedding Model ---\")\n",
    "try:\n",
    "    # Using the updated HuggingFaceEmbeddings from langchain_huggingface\n",
    "    embedding_model_name = 'sentence-transformers/all-MiniLM-L6-v2'\n",
    "    embeddings = HuggingFaceEmbeddings(model_name=embedding_model_name)\n",
    "    print(f\"HuggingFace Embedding Model '{embedding_model_name}' loaded successfully.\")\n",
    "except Exception as e:\n",
    "    print(f\"Error loading HuggingFace embedding model: {e}\")\n",
    "    print(\"Please ensure 'langchain-huggingface' is installed: pip install -U langchain-huggingface\")\n",
    "    # It's good practice to exit or handle this error gracefully if embeddings are critical\n",
    "    exit() "
   ]
  },
  {
   "cell_type": "code",
   "execution_count": 39,
   "id": "19b9d0b8-e66f-45ba-8921-1c9b2ad54c6b",
   "metadata": {},
   "outputs": [],
   "source": [
    "from langchain.vectorstores import Chroma # Import the Chroma vector store class.\n",
    "\n",
    "# Prepare the text data for vectorization.\n",
    "# It concatenates all string values from each dictionary in few_shot_examples into a single string for each example. This combined string will be embedded.\n",
    "to_vectorize = [\"\".join(example.values()) for example in few_shot_examples]\n",
    "\n",
    "# Create a Chroma vector store from the prepared text data.\n",
    "# - `to_vectorize`: The list of strings to be embedded and stored.\n",
    "# - `embedding`: The embedding model (HuggingFaceEmbeddings instance) used to convert text to vectors.\n",
    "# - `metadatas`: A list of dictionaries (your original few_shot_examples) that will be associated with each embedded text. This allows you to retrieve the original question, SQL query, etc., when a similar query is made.\n",
    "vectorstore = Chroma.from_texts(to_vectorize, embedding=embeddings, metadatas=few_shot_examples)"
   ]
  },
  {
   "cell_type": "code",
   "execution_count": 41,
   "id": "f128cf1a-a146-4c7e-afd9-c7cc4acb3ffa",
   "metadata": {},
   "outputs": [],
   "source": [
    "from langchain.prompts import SemanticSimilarityExampleSelector\n",
    "\n",
    "# Initialize the example selector.\n",
    "# - `vectorstore`: The Chroma vector store containing your embedded few-shot examples.\n",
    "# - `k`: The number of most similar examples to retrieve.\n",
    "example_selector = SemanticSimilarityExampleSelector(\n",
    "    vectorstore=vectorstore, \n",
    "    k=2\n",
    ")"
   ]
  },
  {
   "cell_type": "code",
   "execution_count": 43,
   "id": "20d2cdd7-051d-471b-8fc1-3b58f6c5fef6",
   "metadata": {},
   "outputs": [
    {
     "data": {
      "text/plain": [
       "[{'SQLResult': ' Result of the SQL Query - ',\n",
       "  'Question': 'How many tshirts do we have left for Nike in extra small size and red colour?',\n",
       "  'Answer': '83',\n",
       "  'SQLQuery': \"SELECT SUM(stock_quantity) FROM t_shirts WHERE brand = 'Nike' AND size = 'XS' AND color = 'Red';\"},\n",
       " {'SQLResult': ' Result of the SQL Query - ',\n",
       "  'Answer': '83',\n",
       "  'SQLQuery': \"SELECT SUM(stock_quantity) FROM t_shirts WHERE brand = 'Nike' AND size = 'XS' AND color = 'Red';\",\n",
       "  'Question': 'How many tshirts do we have left for Nike in extra small size and red colour?'}]"
      ]
     },
     "execution_count": 43,
     "metadata": {},
     "output_type": "execute_result"
    }
   ],
   "source": [
    "# Select examples based on a new question.\n",
    "# It finds the 'k' most semantically similar examples from the vectorstore.\n",
    "example_selector.select_examples({\"Question\":\"How many VanHeusen tshirts I have in my store?\"})"
   ]
  },
  {
   "cell_type": "code",
   "execution_count": null,
   "id": "3e13d332-9de5-484a-98b7-8c6a9d97c6c8",
   "metadata": {},
   "outputs": [],
   "source": []
  },
  {
   "cell_type": "markdown",
   "id": "2040d7cc-ac22-4b55-9386-e002b8065cb2",
   "metadata": {},
   "source": [
    "## Adding the prompts that Langchain already provides."
   ]
  },
  {
   "cell_type": "code",
   "execution_count": 44,
   "id": "3f9ecb7d-06f6-4dac-a6ba-086badb8a98e",
   "metadata": {},
   "outputs": [],
   "source": [
    "# Import predefined prompt parts for SQL chains.\n",
    "from langchain.chains.sql_database.prompt import PROMPT_SUFFIX, _mysql_prompt "
   ]
  },
  {
   "cell_type": "code",
   "execution_count": 45,
   "id": "f2344143-6503-4b57-b0c4-7b1ca448103c",
   "metadata": {
    "scrolled": true
   },
   "outputs": [
    {
     "name": "stdout",
     "output_type": "stream",
     "text": [
      "You are a MySQL expert. Given an input question, first create a syntactically correct MySQL query to run, then look at the results of the query and return the answer to the input question.\n",
      "Unless the user specifies in the question a specific number of examples to obtain, query for at most {top_k} results using the LIMIT clause as per MySQL. You can order the results to return the most informative data in the database.\n",
      "Never query for all columns from a table. You must query only the columns that are needed to answer the question. Wrap each column name in backticks (`) to denote them as delimited identifiers.\n",
      "Pay attention to use only the column names you can see in the tables below. Be careful to not query for columns that do not exist. Also, pay attention to which column is in which table.\n",
      "Pay attention to use CURDATE() function to get the current date, if the question involves \"today\".\n",
      "\n",
      "Use the following format:\n",
      "\n",
      "Question: Question here\n",
      "SQLQuery: SQL Query to run\n",
      "SQLResult: Result of the SQLQuery\n",
      "Answer: Final answer here\n",
      "\n",
      " Only use the following tables:\n",
      "{table_info}\n",
      "\n",
      "Question: {input}\n"
     ]
    }
   ],
   "source": [
    "print(_mysql_prompt, PROMPT_SUFFIX)"
   ]
  },
  {
   "cell_type": "code",
   "execution_count": 46,
   "id": "9611a0ae-8d75-48c8-9e1c-837bb9b2f063",
   "metadata": {},
   "outputs": [],
   "source": [
    "from langchain.prompts.prompt import PromptTemplate # Import the PromptTemplate class.\n",
    "\n",
    "# Define a template for formatting each individual few-shot example.\n",
    "# It specifies how a single (Question, SQLQuery, SQLResult, Answer) tuple\n",
    "# should be presented within the overall prompt to the LLM.\n",
    "example_prompt = PromptTemplate(\n",
    "    input_variables=[\"Question\", \"SQLQuery\", \"SQLResult\", \"Answer\"],\n",
    "    template=\"\\nQuestion: {Question}\\nSQLQuery: {SQLQuery}\\nSQLResult: {SQLResult}\\nAnswer: {Answer}\"\n",
    ")"
   ]
  },
  {
   "cell_type": "code",
   "execution_count": 47,
   "id": "ae763856-b853-4fa4-b34e-0a739a244309",
   "metadata": {},
   "outputs": [],
   "source": [
    "from langchain.prompts import FewShotPromptTemplate # Import the FewShotPromptTemplate class.\n",
    "\n",
    "# Create a FewShotPromptTemplate instance.\n",
    "few_shot_prompt = FewShotPromptTemplate(\n",
    "    example_selector=example_selector, # Uses the semantic similarity selector to pick examples.\n",
    "    example_prompt=example_prompt,     # Defines how each selected example is formatted.\n",
    "    prefix=_mysql_prompt,                     # `_mysql_prompt` typically sets up the context for MySQL SQL generation.\n",
    "    suffix=PROMPT_SUFFIX,                    # `PROMPT_SUFFIX` usually contains the placeholder for the user's new question.\n",
    "    input_variables=[\"input\", \"table_info\", \"top_k\"], # Variables expected by the final prompt.\n",
    "    # `input`: The user's new natural language question.\n",
    "    # `table_info`: The database schema information.\n",
    "    # `top_k`: (Optional) A parameter for top-k results in SQL.\n",
    "    # template = \"\" # Not needed if using prefix/suffix and example_selector\n",
    ")\n"
   ]
  },
  {
   "cell_type": "code",
   "execution_count": 48,
   "id": "fa407fac-393e-44eb-a341-c443e0cbe4fd",
   "metadata": {},
   "outputs": [],
   "source": [
    "from langchain_google_genai import ChatGoogleGenerativeAI # For LangChain's Gemini LLM wrapper\n",
    "\n",
    "llm = ChatGoogleGenerativeAI(model=\"gemini-1.5-flash\", temperature=0, google_api_key=GOOGLE_API_KEY)"
   ]
  },
  {
   "cell_type": "code",
   "execution_count": 49,
   "id": "3f465ea8-58da-4b77-9099-9e5d85136904",
   "metadata": {},
   "outputs": [],
   "source": [
    "from langchain_experimental.sql import SQLDatabaseChain\n",
    "\n",
    "# Create the chain using your LLM, database connection, and the few-shot prompt.\n",
    "# Setting verbose=True is great for debugging, as it shows you the intermediate steps.\n",
    "sql_chain = SQLDatabaseChain.from_llm(\n",
    "    llm=llm,\n",
    "    db=db,\n",
    "    verbose=True,\n",
    "    prompt=few_shot_prompt\n",
    ")"
   ]
  },
  {
   "cell_type": "code",
   "execution_count": 50,
   "id": "ec40bee4-8e1b-426d-b167-648d6a78ce58",
   "metadata": {},
   "outputs": [
    {
     "name": "stdout",
     "output_type": "stream",
     "text": [
      "\n",
      "Question 1: How many tshirts do we have left for Nike in extra small size and white colour?\n",
      "\n",
      "\n",
      "\u001b[1m> Entering new SQLDatabaseChain chain...\u001b[0m\n",
      "How many tshirts do we have left for Nike in extra small size and white colour?\n",
      "SQLQuery:"
     ]
    },
    {
     "name": "stderr",
     "output_type": "stream",
     "text": [
      "Retrying langchain_google_genai.chat_models._chat_with_retry.<locals>._chat_with_retry in 2.0 seconds as it raised ResourceExhausted: 429 You exceeded your current quota, please check your plan and billing details. For more information on this error, head to: https://ai.google.dev/gemini-api/docs/rate-limits. [violations {\n",
      "  quota_metric: \"generativelanguage.googleapis.com/generate_content_free_tier_requests\"\n",
      "  quota_id: \"GenerateRequestsPerDayPerProjectPerModel-FreeTier\"\n",
      "  quota_dimensions {\n",
      "    key: \"model\"\n",
      "    value: \"gemini-1.5-flash\"\n",
      "  }\n",
      "  quota_dimensions {\n",
      "    key: \"location\"\n",
      "    value: \"global\"\n",
      "  }\n",
      "  quota_value: 50\n",
      "}\n",
      ", links {\n",
      "  description: \"Learn more about Gemini API quotas\"\n",
      "  url: \"https://ai.google.dev/gemini-api/docs/rate-limits\"\n",
      "}\n",
      ", retry_delay {\n",
      "  seconds: 28\n",
      "}\n",
      "].\n"
     ]
    },
    {
     "name": "stdout",
     "output_type": "stream",
     "text": [
      "Error running chain for 'How many tshirts do we have left for Nike in extra small size and white colour?': 429 You exceeded your current quota, please check your plan and billing details. For more information on this error, head to: https://ai.google.dev/gemini-api/docs/rate-limits. [violations {\n",
      "  quota_metric: \"generativelanguage.googleapis.com/generate_content_free_tier_requests\"\n",
      "  quota_id: \"GenerateRequestsPerDayPerProjectPerModel-FreeTier\"\n",
      "  quota_dimensions {\n",
      "    key: \"model\"\n",
      "    value: \"gemini-1.5-flash\"\n",
      "  }\n",
      "  quota_dimensions {\n",
      "    key: \"location\"\n",
      "    value: \"global\"\n",
      "  }\n",
      "  quota_value: 50\n",
      "}\n",
      ", links {\n",
      "  description: \"Learn more about Gemini API quotas\"\n",
      "  url: \"https://ai.google.dev/gemini-api/docs/rate-limits\"\n",
      "}\n",
      ", retry_delay {\n",
      "  seconds: 25\n",
      "}\n",
      "]\n",
      "\n",
      "---------------------------------------------------\n",
      "\n"
     ]
    }
   ],
   "source": [
    "# Test Query 1: Original example\n",
    "q1 = \"How many tshirts do we have left for Nike in extra small size and white colour?\"\n",
    "print(f\"\\nQuestion 1: {q1}\")\n",
    "try:\n",
    "    response1 = sql_chain.invoke(q1)\n",
    "    print(f\"Final Answer for '{q1}': {response1}\")\n",
    "except Exception as e:\n",
    "    print(f\"Error running chain for '{q1}': {e}\")\n",
    "\n",
    "print(\"\\n---------------------------------------------------\\n\")"
   ]
  },
  {
   "cell_type": "code",
   "execution_count": null,
   "id": "104fb101-35d5-4e25-80b8-2f4259ba2e49",
   "metadata": {},
   "outputs": [],
   "source": []
  }
 ],
 "metadata": {
  "kernelspec": {
   "display_name": "Python 3 (ipykernel)",
   "language": "python",
   "name": "python3"
  },
  "language_info": {
   "codemirror_mode": {
    "name": "ipython",
    "version": 3
   },
   "file_extension": ".py",
   "mimetype": "text/x-python",
   "name": "python",
   "nbconvert_exporter": "python",
   "pygments_lexer": "ipython3",
   "version": "3.12.3"
  }
 },
 "nbformat": 4,
 "nbformat_minor": 5
}
