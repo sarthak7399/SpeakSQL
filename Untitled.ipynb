{
 "cells": [
  {
   "cell_type": "code",
   "execution_count": null,
   "id": "95f46c96-79bc-4154-96bd-4d81c72c0eba",
   "metadata": {
    "scrolled": true
   },
   "outputs": [],
   "source": [
    "%pip install -r requirements.txt"
   ]
  },
  {
   "cell_type": "code",
   "execution_count": null,
   "id": "16c295e7-23f6-45eb-ac1a-3771295408c9",
   "metadata": {},
   "outputs": [],
   "source": [
    "!pip install -U google-generativeai"
   ]
  },
  {
   "cell_type": "code",
   "execution_count": 3,
   "id": "64683556-a8f7-436b-bd34-eadba3e12921",
   "metadata": {},
   "outputs": [
    {
     "data": {
      "text/plain": [
       "True"
      ]
     },
     "execution_count": 3,
     "metadata": {},
     "output_type": "execute_result"
    }
   ],
   "source": [
    "# --- Load Environment Variables ---\n",
    "# Ensure your .env file exists in the same directory as this script\n",
    "\n",
    "import os\n",
    "from dotenv import load_dotenv\n",
    "import decimal # New import for Decimal type handling\n",
    "\n",
    "load_dotenv()"
   ]
  },
  {
   "cell_type": "code",
   "execution_count": 4,
   "id": "e1727d95-93cb-4674-9b63-995576729711",
   "metadata": {},
   "outputs": [],
   "source": [
    "GOOGLE_API_KEY = os.getenv('GOOGLE_API_KEY')\n",
    "db_user =  os.getenv(\"db_user\")\n",
    "db_password =  os.getenv(\"db_password\")\n",
    "db_host =  os.getenv(\"db_host\")\n",
    "db_port =  os.getenv(\"db_port\")\n",
    "db_name =  os.getenv(\"db_name\")"
   ]
  },
  {
   "cell_type": "code",
   "execution_count": 6,
   "id": "1d592197-7c9e-4597-bc8a-760a4c553a25",
   "metadata": {},
   "outputs": [],
   "source": [
    "import google.generativeai as genai\n",
    "\n",
    "# --- Configure Gemini API ---\n",
    "# This line configures the Gemini API with your API key.\n",
    "# It's crucial for authenticating your requests to Google's generative models.\n",
    "genai.configure(api_key=GOOGLE_API_KEY)"
   ]
  },
  {
   "cell_type": "code",
   "execution_count": 7,
   "id": "3eceb838-5c6b-4a4f-aac4-98f8166c9489",
   "metadata": {},
   "outputs": [
    {
     "name": "stdout",
     "output_type": "stream",
     "text": [
      "--- Connecting to MySQL Database and Fetching Schema ---\n",
      "Database Schema:\n",
      " \n",
      "CREATE TABLE discounts (\n",
      "\tdiscount_id INTEGER NOT NULL COMMENT 'Unique ID for each discount entry' AUTO_INCREMENT, \n",
      "\tt_shirt_id INTEGER NOT NULL COMMENT 'Foreign key referencing the t-shirt being discounted', \n",
      "\tpct_discount DECIMAL(5, 2) COMMENT 'Discount percentage (0-100)', \n",
      "\tPRIMARY KEY (discount_id), \n",
      "\tCONSTRAINT discounts_ibfk_1 FOREIGN KEY(t_shirt_id) REFERENCES t_shirts (t_shirt_id), \n",
      "\tCONSTRAINT discounts_chk_1 CHECK ((`pct_discount` between 0 and 100))\n",
      ")DEFAULT CHARSET=utf8mb4 COMMENT='Table storing discount information for t-shirts' ENGINE=InnoDB COLLATE utf8mb4_0900_ai_ci\n",
      "\n",
      "/*\n",
      "3 rows from discounts table:\n",
      "discount_id\tt_shirt_id\tpct_discount\n",
      "1\t1\t10.00\n",
      "2\t2\t15.00\n",
      "3\t3\t20.00\n",
      "*/\n",
      "\n",
      "\n",
      "CREATE TABLE t_shirts (\n",
      "\tt_shirt_id INTEGER NOT NULL COMMENT 'Unique ID for each t-shirt entry' AUTO_INCREMENT, \n",
      "\tbrand ENUM('Van Huesen','Levi','Nike','Adidas') NOT NULL COMMENT 'Brand of the t-shirt', \n",
      "\tcolor ENUM('Red','Blue','Black','White') NOT NULL COMMENT 'Color of the t-shirt', \n",
      "\tsize ENUM('XS','S','M','L','XL') NOT NULL COMMENT 'Size of the t-shirt', \n",
      "\tprice INTEGER COMMENT 'Price in arbitrary units, between 10 and 50', \n",
      "\tstock_quantity INTEGER NOT NULL COMMENT 'Number of items available in stock', \n",
      "\tPRIMARY KEY (t_shirt_id), \n",
      "\tCONSTRAINT t_shirts_chk_1 CHECK ((`price` between 10 and 50))\n",
      ")DEFAULT CHARSET=utf8mb4 COMMENT='Table storing t-shirt product information' ENGINE=InnoDB COLLATE utf8mb4_0900_ai_ci\n",
      "\n",
      "/*\n",
      "3 rows from t_shirts table:\n",
      "t_shirt_id\tbrand\tcolor\tsize\tprice\tstock_quantity\n",
      "1\tAdidas\tBlack\tXS\t12\t88\n",
      "2\tVan Huesen\tRed\tXL\t37\t49\n",
      "3\tVan Huesen\tBlue\tS\t21\t73\n",
      "*/\n",
      "---------------------------------------------------\n",
      "\n"
     ]
    }
   ],
   "source": [
    "# --- Initialize SQLDatabase ---\n",
    "# This connects to your MySQL database and extracts its schema information.\n",
    "# The 'sample_rows_in_table_info=3' helps Gemini understand the data types and typical values.\n",
    "\n",
    "from langchain.utilities import SQLDatabase\n",
    "\n",
    "print(\"--- Connecting to MySQL Database and Fetching Schema ---\")\n",
    "\n",
    "try:\n",
    "    db = SQLDatabase.from_uri(\n",
    "        f\"mysql+pymysql://{db_user}:{db_password}@{db_host}:{db_port}/{db_name}\",\n",
    "        sample_rows_in_table_info=3\n",
    "    )\n",
    "    database_schema = db.table_info\n",
    "    print(\"Database Schema:\\n\", database_schema)\n",
    "    print(\"---------------------------------------------------\\n\")\n",
    "except Exception as e:\n",
    "    print(f\"Error connecting to database or fetching schema: {e}\")\n",
    "    print(\"Please ensure MySQL is running, your .env variables are correct, and pymysql is installed.\")\n",
    "    exit() # Exit if database connection fails, as further steps depend on it.\n"
   ]
  },
  {
   "cell_type": "code",
   "execution_count": 8,
   "id": "ba4a2975-5501-416f-9514-6f7d142bd6b0",
   "metadata": {
    "scrolled": true
   },
   "outputs": [
    {
     "name": "stdout",
     "output_type": "stream",
     "text": [
      "Available models supporting 'generateContent':\n",
      "  - models/gemini-1.0-pro-vision-latest\n",
      "  - models/gemini-pro-vision\n",
      "  - models/gemini-1.5-pro-latest\n",
      "  - models/gemini-1.5-pro-001\n",
      "  - models/gemini-1.5-pro-002\n",
      "  - models/gemini-1.5-pro\n",
      "  - models/gemini-1.5-flash-latest\n",
      "  - models/gemini-1.5-flash-001\n",
      "  - models/gemini-1.5-flash-001-tuning\n",
      "  - models/gemini-1.5-flash\n",
      "  - models/gemini-1.5-flash-002\n",
      "  - models/gemini-1.5-flash-8b\n",
      "  - models/gemini-1.5-flash-8b-001\n",
      "  - models/gemini-1.5-flash-8b-latest\n",
      "  - models/gemini-1.5-flash-8b-exp-0827\n",
      "  - models/gemini-1.5-flash-8b-exp-0924\n",
      "  - models/gemini-2.5-pro-exp-03-25\n",
      "  - models/gemini-2.5-pro-preview-03-25\n",
      "  - models/gemini-2.5-flash-preview-04-17\n",
      "  - models/gemini-2.5-flash-preview-05-20\n",
      "  - models/gemini-2.5-flash-preview-04-17-thinking\n",
      "  - models/gemini-2.5-pro-preview-05-06\n",
      "  - models/gemini-2.5-pro-preview-06-05\n",
      "  - models/gemini-2.0-flash-exp\n",
      "  - models/gemini-2.0-flash\n",
      "  - models/gemini-2.0-flash-001\n",
      "  - models/gemini-2.0-flash-exp-image-generation\n",
      "  - models/gemini-2.0-flash-lite-001\n",
      "  - models/gemini-2.0-flash-lite\n",
      "  - models/gemini-2.0-flash-preview-image-generation\n",
      "  - models/gemini-2.0-flash-lite-preview-02-05\n",
      "  - models/gemini-2.0-flash-lite-preview\n",
      "  - models/gemini-2.0-pro-exp\n",
      "  - models/gemini-2.0-pro-exp-02-05\n",
      "  - models/gemini-exp-1206\n",
      "  - models/gemini-2.0-flash-thinking-exp-01-21\n",
      "  - models/gemini-2.0-flash-thinking-exp\n",
      "  - models/gemini-2.0-flash-thinking-exp-1219\n",
      "  - models/gemini-2.5-flash-preview-tts\n",
      "  - models/gemini-2.5-pro-preview-tts\n",
      "  - models/learnlm-2.0-flash-experimental\n",
      "  - models/gemma-3-1b-it\n",
      "  - models/gemma-3-4b-it\n",
      "  - models/gemma-3-12b-it\n",
      "  - models/gemma-3-27b-it\n",
      "  - models/gemma-3n-e4b-it\n"
     ]
    }
   ],
   "source": [
    "# --- List Available Gemini Models ---\n",
    "# It's good practice to list models to confirm which ones support 'generateContent'\n",
    "# in your region and for your API key.\n",
    "print(\"Available models supporting 'generateContent':\")\n",
    "available_models = []\n",
    "for m in genai.list_models():\n",
    "    if 'generateContent' in m.supported_generation_methods:\n",
    "        available_models.append(m.name)\n",
    "        print(f\"  - {m.name}\")\n",
    "\n",
    "if not available_models:\n",
    "    print(\"\\nNo models found that support 'generateContent'. Please check your API key and region availability.\")\n",
    "    exit()"
   ]
  },
  {
   "cell_type": "code",
   "execution_count": 14,
   "id": "6a4daecd-0b09-4352-8d6d-44dcc57725a6",
   "metadata": {},
   "outputs": [],
   "source": [
    "# --- Initialize Gemini Model ---\n",
    "# We'll use 'gemini-1.5-flash' as it's often a good balance of speed and capability for free tier.\n",
    "# You can change this to another model name from the 'Available models' list if needed.\n",
    "model_name_to_use = 'gemini-1.5-flash' "
   ]
  },
  {
   "cell_type": "code",
   "execution_count": 15,
   "id": "e39cc6ca-3ffb-45a3-92e8-7a4e1abebbf7",
   "metadata": {},
   "outputs": [
    {
     "name": "stdout",
     "output_type": "stream",
     "text": [
      "Model initialised 😄\n",
      "Good to go !!!\n"
     ]
    }
   ],
   "source": [
    "# Verify the chosen model is in the available list\n",
    "if f\"models/{model_name_to_use}\" not in available_models and model_name_to_use not in available_models:\n",
    "    print(f\"\\nWarning: The chosen model '{model_name_to_use}' is not in the list of available models.\")\n",
    "    print(\"Attempting to use it anyway, but it might result in an error.\")\n",
    "    print(\"Consider changing 'model_name_to_use' to one from the list above.\")\n",
    "else:\n",
    "    model = genai.GenerativeModel(model_name_to_use)\n",
    "    print(\"Model initialised 😄\\nGood to go !!!\")"
   ]
  },
  {
   "cell_type": "code",
   "execution_count": 16,
   "id": "671e1679-3b2c-4f41-a11f-da05afca233a",
   "metadata": {},
   "outputs": [
    {
     "name": "stdout",
     "output_type": "stream",
     "text": [
      "\n",
      "--- Asking Gemini (General Question): 'Who is the Prime minister of India?' ---\n",
      "The current Prime Minister of India is Narendra Modi.\n",
      "---------------------------------------------------\n",
      "\n"
     ]
    }
   ],
   "source": [
    "# --- Example 1: Basic Text Generation with Gemini ---\n",
    "# This shows how Gemini responds to a general question.\n",
    "prompt_general = \"Who is the Prime minister of India?\"\n",
    "print(f\"\\n--- Asking Gemini (General Question): '{prompt_general}' ---\")\n",
    "try:\n",
    "    response_general = model.generate_content(prompt_general)\n",
    "    print(response_general.text.strip())\n",
    "except Exception as e:\n",
    "    print(f\"Error during general text generation: {e}\")\n",
    "print(\"---------------------------------------------------\\n\")"
   ]
  },
  {
   "cell_type": "code",
   "execution_count": 17,
   "id": "f06043aa-5f27-4e69-a78d-5a7534e35b3f",
   "metadata": {},
   "outputs": [],
   "source": [
    "import pymysql\n",
    "\n",
    "# ================================================================\n",
    "# --- NEW FUNCTION FOR SQL GENERATION AND EXECUTION ---\n",
    "# ================================================================\n",
    "\n",
    "def ask_sql_query(user_question: str, gemini_model, sql_database_obj):\n",
    "    \"\"\"\n",
    "    Generates a MySQL query from a natural language question using Gemini,\n",
    "    executes it against the provided database, and returns the results.\n",
    "\n",
    "    Args:\n",
    "        user_question (str): The natural language question from the user.\n",
    "        gemini_model: The initialized Gemini GenerativeModel instance.\n",
    "        sql_database_obj: The initialized langchain.utilities.SQLDatabase object.\n",
    "\n",
    "    Returns:\n",
    "        list: A list of tuples containing the query results.\n",
    "              Returns 0 if it's an aggregate query yielding no results (SUM/COUNT=NULL or empty).\n",
    "              Returns None if an error occurs.\n",
    "    \"\"\"\n",
    "    print(f\"\\n--- Processing user question: '{user_question}' ---\")\n",
    "\n",
    "    # Construct the prompt for Gemini\n",
    "    sql_generation_prompt = f\"\"\"\n",
    "Given the following MySQL database schema:\n",
    "\n",
    "{sql_database_obj.table_info}\n",
    "\n",
    "Generate a valid MySQL query for the following question:\n",
    "\"{user_question}\"\n",
    "\n",
    "When generating the query, ensure that:\n",
    "1. Column names from the schema are used exactly as provided.\n",
    "2. String comparisons (like 'Nike', 'extra small', 'white') should match the case and format\n",
    "   of data as it is actually stored in the database. If exact matches are needed,\n",
    "   use '='. If a case-insensitive match might be better, consider functions like LOWER().\n",
    "3. For questions asking \"how many\" or \"total\", generate a query that returns a single aggregate value (e.g., SUM, COUNT).\n",
    "   If no matching rows are found, the query should logically yield 0 or NULL for that aggregate.\n",
    "\n",
    "Provide only the SQL query, without any additional explanation or text.\n",
    "\"\"\"\n",
    "\n",
    "    # print(\"--- Prompt sent to Gemini ---\")\n",
    "    # print(sql_generation_prompt)\n",
    "    # print(\"---------------------------\\n\")\n",
    "\n",
    "    generated_sql = None\n",
    "    try:\n",
    "        response_sql = gemini_model.generate_content(sql_generation_prompt)\n",
    "        generated_sql = response_sql.text.strip()\n",
    "\n",
    "        # Remove Markdown code block delimiters\n",
    "        if generated_sql.startswith(\"```sql\"):\n",
    "            generated_sql = generated_sql[len(\"```sql\"):].strip()\n",
    "        if generated_sql.endswith(\"```\"):\n",
    "            generated_sql = generated_sql[:-len(\"```\")].strip()\n",
    "            \n",
    "        print(\"--- Generated SQL Query (cleaned) ---\")\n",
    "        print(generated_sql)\n",
    "        print(\"-----------------------------------\\n\")\n",
    "\n",
    "    except Exception as e:\n",
    "        print(f\"Error during SQL generation by Gemini: {e}\")\n",
    "        return None # Indicate failure\n",
    "\n",
    "    # Execute the generated SQL query\n",
    "    print(\"--- Executing SQL Query and Fetching Results ---\")\n",
    "    try:\n",
    "        conn = pymysql.connect(\n",
    "            host=db_host,\n",
    "            user=db_user,\n",
    "            password=db_password,\n",
    "            database=db_name,\n",
    "            port=int(db_port)\n",
    "        )\n",
    "        cursor = conn.cursor()\n",
    "        cursor.execute(generated_sql)\n",
    "        results = cursor.fetchall()\n",
    "        \n",
    "        if cursor.description:\n",
    "            columns = [i[0] for i in cursor.description]\n",
    "            print(\"Columns:\", columns)\n",
    "        \n",
    "        # --- ENHANCED HANDLING FOR EMPTY/NULL/SINGLE AGGREGATE RESULTS ---\n",
    "        if not results or (len(results) == 1 and results[0][0] is None):\n",
    "            print(\"Query Results: 0 (or no matching data)\")\n",
    "            return 0 # Return 0 for aggregate queries with no results\n",
    "        elif len(results) == 1 and len(results[0]) == 1 and isinstance(results[0][0], (int, float, decimal.Decimal)):\n",
    "            # If it's a single aggregate value (like COUNT(*), SUM), return the scalar directly\n",
    "            print(f\"Query Result: {results[0][0]}\")\n",
    "            return results[0][0]\n",
    "        else:\n",
    "            print(\"Query Results:\")\n",
    "            for row in results:\n",
    "                print(row)\n",
    "            return results # Return the actual results (list of tuples for multi-row/col)\n",
    "\n",
    "    except pymysql.Error as db_error:\n",
    "        print(f\"Error executing SQL query: {db_error}\")\n",
    "        return None # Indicate failure\n",
    "\n",
    "    finally:\n",
    "        if 'conn' in locals() and conn.open: # Ensure connection is closed even on error\n",
    "            conn.close()"
   ]
  },
  {
   "cell_type": "code",
   "execution_count": 18,
   "id": "d1ee2abf-840d-41d0-aa40-aef17fb6b155",
   "metadata": {},
   "outputs": [
    {
     "name": "stdout",
     "output_type": "stream",
     "text": [
      "\n",
      "--- Processing user question: 'How many tshirts do we have left for Nike in extra small size and red colour?' ---\n",
      "--- Generated SQL Query (cleaned) ---\n",
      "SELECT\n",
      "  SUM(stock_quantity)\n",
      "FROM t_shirts\n",
      "WHERE\n",
      "  brand = 'Nike' AND size = 'XS' AND color = 'Red';\n",
      "-----------------------------------\n",
      "\n",
      "--- Executing SQL Query and Fetching Results ---\n",
      "Columns: ['SUM(stock_quantity)']\n",
      "Query Result: 83\n",
      "\n",
      "Final Answer for 'How many tshirts do we have left for Nike in extra small size and red colour?': 83\n",
      "\n",
      "---------------------------------------------------\n",
      "\n"
     ]
    }
   ],
   "source": [
    "# This is the core logic for SpeakSQL project.\n",
    "# Test Query 1: Your original example\n",
    "q1 = \"How many tshirts do we have left for Nike in extra small size and red colour?\"\n",
    "result1 = ask_sql_query(q1, model, db)\n",
    "print(f\"\\nFinal Answer for '{q1}': {result1}\")\n",
    "\n",
    "print(\"\\n---------------------------------------------------\\n\")"
   ]
  },
  {
   "cell_type": "code",
   "execution_count": 19,
   "id": "ddb40623-aceb-4db2-975f-14d3f0dd00f1",
   "metadata": {},
   "outputs": [
    {
     "name": "stdout",
     "output_type": "stream",
     "text": [
      "\n",
      "--- Processing user question: 'List all customers who have purchased more than 10 t-shirts.' ---\n",
      "--- Generated SQL Query (cleaned) ---\n",
      "-- There is no customer information in the provided schema.\n",
      "-- Returning an empty result set as requested.\n",
      "SELECT * FROM t_shirts WHERE 1=0;\n",
      "-----------------------------------\n",
      "\n",
      "--- Executing SQL Query and Fetching Results ---\n",
      "Columns: ['t_shirt_id', 'brand', 'color', 'size', 'price', 'stock_quantity']\n",
      "Query Results: 0 (or no matching data)\n",
      "\n",
      "Final Answer for 'List all customers who have purchased more than 10 t-shirts.': 0\n",
      "\n",
      "---------------------------------------------------\n",
      "\n"
     ]
    }
   ],
   "source": [
    "# Test Query 2: Another example\n",
    "q2 = \"List all customers who have purchased more than 10 t-shirts.\"\n",
    "result2 = ask_sql_query(q2, model, db)\n",
    "print(f\"\\nFinal Answer for '{q2}': {result2}\")\n",
    "\n",
    "print(\"\\n---------------------------------------------------\\n\")"
   ]
  },
  {
   "cell_type": "code",
   "execution_count": 20,
   "id": "b327e6ef-2f39-496b-aad4-690c1dd9a750",
   "metadata": {},
   "outputs": [
    {
     "name": "stdout",
     "output_type": "stream",
     "text": [
      "\n",
      "--- Processing user question: 'Show me the total number of products in stock.' ---\n",
      "--- Generated SQL Query (cleaned) ---\n",
      "SELECT SUM(stock_quantity) FROM t_shirts;\n",
      "-----------------------------------\n",
      "\n",
      "--- Executing SQL Query and Fetching Results ---\n",
      "Columns: ['SUM(stock_quantity)']\n",
      "Query Result: 3129\n",
      "\n",
      "Final Answer for 'Show me the total number of products in stock.': 3129\n"
     ]
    }
   ],
   "source": [
    "q3 = \"Show me the total number of products in stock.\"\n",
    "result3 = ask_sql_query(q3, model, db)\n",
    "print(f\"\\nFinal Answer for '{q3}': {result3}\")"
   ]
  },
  {
   "cell_type": "code",
   "execution_count": 22,
   "id": "f0ff1196-b4e4-4016-a9f6-c2d9a10ee0d9",
   "metadata": {},
   "outputs": [
    {
     "name": "stdout",
     "output_type": "stream",
     "text": [
      "\n",
      "--- Processing user question: 'How much is the price of inventory for all small sized tshirts?' ---\n",
      "--- Generated SQL Query (cleaned) ---\n",
      "SELECT\n",
      "  SUM(price * stock_quantity)\n",
      "FROM t_shirts\n",
      "WHERE\n",
      "  size = 'S';\n",
      "-----------------------------------\n",
      "\n",
      "--- Executing SQL Query and Fetching Results ---\n",
      "Columns: ['SUM(price * stock_quantity)']\n",
      "Query Result: 13924\n",
      "\n",
      "Final Answer for 'How much is the price of inventory for all small sized tshirts?': 13924\n"
     ]
    }
   ],
   "source": [
    "q4 = \"How much is the price of inventory for all small sized tshirts?\"\n",
    "result4 = ask_sql_query(q4, model, db)\n",
    "print(f\"\\nFinal Answer for '{q4}': {result4}\")"
   ]
  },
  {
   "cell_type": "code",
   "execution_count": 27,
   "id": "77ab6422-7cd3-4c38-867b-df48aedcff84",
   "metadata": {},
   "outputs": [
    {
     "name": "stdout",
     "output_type": "stream",
     "text": [
      "\n",
      "--- Processing user question: 'If we have to sell all the Levi's tshirt with discounts applied. How much revenue will our store generate? (post discounts)' ---\n",
      "--- Generated SQL Query (cleaned) ---\n",
      "SELECT\n",
      "  SUM(CASE WHEN d.pct_discount IS NULL THEN t.price ELSE t.price * (1 - d.pct_discount / 100) END)\n",
      "FROM t_shirts AS t\n",
      "LEFT JOIN discounts AS d\n",
      "  ON t.t_shirt_id = d.t_shirt_id\n",
      "WHERE\n",
      "  t.brand = 'Levi';\n",
      "-----------------------------------\n",
      "\n",
      "--- Executing SQL Query and Fetching Results ---\n",
      "Columns: ['SUM(CASE WHEN d.pct_discount IS NULL THEN t.price ELSE t.price * (1 - d.pct_discount / 100) END)']\n",
      "Query Result: 459.650000\n",
      "\n",
      "Final Answer for 'If we have to sell all the Levi's tshirt with discounts applied. How much revenue will our store generate? (post discounts)': 459.650000\n"
     ]
    }
   ],
   "source": [
    "q5 = \"If we have to sell all the Levi's tshirt with discounts applied. How much revenue will our store generate? (post discounts)\"\n",
    "# q5 = \"\"\"SELECT SUM(t.stock_quantity * IFNULL(t.price * (1 - d.pct_discount / 100), t.price)) as Total_Revenue\n",
    "#         FROM t_shirts AS t\n",
    "#         LEFT JOIN discounts AS d\n",
    "#           ON t.t_shirt_id = d.t_shirt_id\n",
    "#         WHERE t.brand = 'Levi';\"\"\"\n",
    "\n",
    "# OR \n",
    "\n",
    "# q5 = \"\"\"SELECT SUM(a.Total_Amount * ((100- COALESCE(discounts.pct_discount, 0))/100)) as Total_Revenue\n",
    "#         FROM (SELECT SUM(price*stock_quantity) as Total_Amount, t_shirt_id from t_shirts\n",
    "#             \tWHERE brand = 'Levi'\n",
    "#             \tGROUP BY t_shirt_id) a\n",
    "#         LEFT JOIN discounts \n",
    "#         ON a.t_shirt_id = discounts.t_shirt_id\"\"\"\n",
    "\n",
    "result5 = ask_sql_query(q5, model, db)\n",
    "print(f\"\\nFinal Answer for '{q5}': {result5}\")"
   ]
  },
  {
   "cell_type": "code",
   "execution_count": 29,
   "id": "73d5e09a-931a-4d13-9797-708c0be2fc38",
   "metadata": {},
   "outputs": [
    {
     "name": "stdout",
     "output_type": "stream",
     "text": [
      "\n",
      "--- Processing user question: 'How many White coloured Levi's tshirts do we have in each size?' ---\n",
      "--- Generated SQL Query (cleaned) ---\n",
      "SELECT\n",
      "  COUNT(*)\n",
      "FROM t_shirts\n",
      "WHERE\n",
      "  brand = 'Levi' AND color = 'White'\n",
      "GROUP BY\n",
      "  size;\n",
      "-----------------------------------\n",
      "\n",
      "--- Executing SQL Query and Fetching Results ---\n",
      "Columns: ['COUNT(*)']\n",
      "Query Results:\n",
      "(1,)\n",
      "(1,)\n",
      "(1,)\n",
      "(1,)\n",
      "(1,)\n",
      "\n",
      "Final Answer for 'How many White coloured Levi's tshirts do we have in each size?': ((1,), (1,), (1,), (1,), (1,))\n"
     ]
    }
   ],
   "source": [
    "q6 = \"How many White coloured Levi's tshirts do we have in each size?\"\n",
    "result6 = ask_sql_query(q6, model, db)\n",
    "print(f\"\\nFinal Answer for '{q6}': {result6}\")"
   ]
  },
  {
   "cell_type": "code",
   "execution_count": null,
   "id": "752a19c0-d0d2-44bc-bcf1-9dc1e797f50d",
   "metadata": {},
   "outputs": [],
   "source": []
  },
  {
   "cell_type": "code",
   "execution_count": null,
   "id": "55b48859-e635-46b3-91dc-d408745f3403",
   "metadata": {},
   "outputs": [],
   "source": []
  }
 ],
 "metadata": {
  "kernelspec": {
   "display_name": "Python 3 (ipykernel)",
   "language": "python",
   "name": "python3"
  },
  "language_info": {
   "codemirror_mode": {
    "name": "ipython",
    "version": 3
   },
   "file_extension": ".py",
   "mimetype": "text/x-python",
   "name": "python",
   "nbconvert_exporter": "python",
   "pygments_lexer": "ipython3",
   "version": "3.12.3"
  }
 },
 "nbformat": 4,
 "nbformat_minor": 5
}
